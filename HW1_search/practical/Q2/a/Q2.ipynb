{
 "cells": [
  {
   "cell_type": "markdown",
   "id": "fa2f6537113e5fc2",
   "metadata": {
    "collapsed": false
   },
   "source": [
    "\n",
    "<br>\n",
    "<font>\n",
    "<div dir=ltr align=center>\n",
    "<img src=\"https://cdn.freebiesupply.com/logos/large/2x/sharif-logo-png-transparent.png\" width=150 height=150> <br>\n",
    "<font color=0F5298 size=7>\n",
    "Artificial Intelligence <br>\n",
    "<font color=2565AE size=5>\n",
    "Computer Engineering Department <br>\n",
    "Spring 2024<br>\n",
    "<font color=3C99D size=5>\n",
    "Practical Assignment 1 - Search Algorithms <br>\n",
    "<font color=696880 size=4>\n",
    "Amir Mohammad Fakhimi\n",
    "\n",
    "\n",
    "____"
   ]
  },
  {
   "cell_type": "markdown",
   "id": "a3f5bd2d-4b6c-4682-99a8-55d9c9164561",
   "metadata": {},
   "source": [
    "# Personal Data"
   ]
  },
  {
   "cell_type": "code",
   "execution_count": 1,
   "id": "6600fbd1-6f48-4f02-971e-6aee32c82d0c",
   "metadata": {
    "ExecuteTime": {
     "end_time": "2024-02-16T12:59:46.745724Z",
     "start_time": "2024-02-16T12:59:46.722567Z"
    }
   },
   "outputs": [],
   "source": [
    "# Set your student number and name\n",
    "student_number = '401106339'\n",
    "Name = 'Ali'\n",
    "Last_Name = 'Ghasemzadeh'"
   ]
  },
  {
   "cell_type": "markdown",
   "id": "39400a82-6b02-4f38-b6b5-230885ea26fa",
   "metadata": {},
   "source": [
    "# Rules"
   ]
  },
  {
   "cell_type": "markdown",
   "id": "adb839db-ff96-43bc-954a-3582b536f6d2",
   "metadata": {},
   "source": [
    "<font color=red>\n",
    "Please run all the cells.\n",
    "</font>"
   ]
  },
  {
   "cell_type": "markdown",
   "id": "d0f958d0-5146-4aa1-b691-b8e610d7d39a",
   "metadata": {},
   "source": [
    "# Libraries"
   ]
  },
  {
   "cell_type": "code",
   "execution_count": 2,
   "id": "d972b52ea18facd5",
   "metadata": {
    "ExecuteTime": {
     "end_time": "2024-02-16T12:59:52.340311Z",
     "start_time": "2024-02-16T12:59:46.844041Z"
    },
    "collapsed": false
   },
   "outputs": [],
   "source": [
    "# import libraries here\n",
    "\n",
    "from abc import abstractmethod\n",
    "import numpy as np\n",
    "from numpy import random\n",
    "import pandas as pd\n",
    "# import sys\n",
    "# sys.setrecursionlimit(50000)"
   ]
  },
  {
   "cell_type": "markdown",
   "id": "2087151a-2cba-42cb-a9b9-a40068f3bfb8",
   "metadata": {},
   "source": [
    "# Q1: Uninformed Search (DFS, BFS, IDS, A*) (100 Points)"
   ]
  },
  {
   "cell_type": "markdown",
   "id": "6197a1748c274030",
   "metadata": {
    "collapsed": false
   },
   "source": [
    "In this jupyter notebook, we aim to implement four uninformed search algorithms: DFS, BFS, IDS, and A*. We also implement a maze class to test the algorithms."
   ]
  },
  {
   "cell_type": "markdown",
   "id": "dd23e885-3497-49f9-aff6-7189de4890a7",
   "metadata": {},
   "source": [
    "## Tile\n",
    "Each tile is one maze's square. Each part has a (x, y) coordinate. Also it has g (the cost until now), h (heuristic) and f (sum of g and h)."
   ]
  },
  {
   "cell_type": "code",
   "execution_count": 3,
   "id": "initial_id",
   "metadata": {
    "ExecuteTime": {
     "end_time": "2024-02-16T12:59:52.354919Z",
     "start_time": "2024-02-16T12:59:52.345655Z"
    }
   },
   "outputs": [],
   "source": [
    "class Tile:\n",
    "    def __init__(self, x, y):\n",
    "        self.x = x\n",
    "        self.y = y\n",
    "        \n",
    "        self.g = 0\n",
    "        self.h = 0\n",
    "        self.f = 0\n",
    "        \n",
    "        self.parent = None\n",
    "        \n",
    "    def __eq__(self, other):\n",
    "        return self.x == other.x and self.y == other.y\n",
    "    \n",
    "    def __repr__(self):\n",
    "        return f'({self.x}, {self.y})'"
   ]
  },
  {
   "cell_type": "markdown",
   "id": "cfc3820a-111f-437e-9ee3-a2ca54ad8cfb",
   "metadata": {},
   "source": [
    "## Maze\n",
    "It has a map attribute. It's a 2d array of a string type. Each index is one of the following strings:\n",
    "- '0': A free index which the agent can move to.\n",
    "- '1': A wall which the agent can't move to.\n",
    "- 'S': The start point of the agent.\n",
    "- 'E': The end point of the agent.\n",
    "- 'V': The tiles that the agent has visited. It is used in the [visualizer website](https://project.amfakhimi.com/maze-visualizer), not in this jupyter notebook.\n",
    "- 'P': The path that the agent has moved through. It appears after the agent has found the path in the `print_path` function of the `Algorithm` class.\n",
    "\n",
    "It has three types of initialization:\n",
    "- a tuple (a, b): a is the height of the map, and b is the width of the map. It generates a random map with 80% of '0' and 20% of '1' and sets the start and end points randomly. It is suggested to use it after setting the `random.seed` to a constant number.\n",
    "- a string: the path of a csv file which contains the map. You can export your customized map from [here](https://project.amfakhimi.com/maze-visualizer).\n",
    "- a list or a numpy array: the map itself. It should have 'S' and 'E' in it.\n",
    "\n",
    "The most important methods are:\n",
    "- `get_tile`: It returns the value of the tile in the given (x, y) coordinate. Pay attention that the first index is y and the second one is x.\n",
    "- `export_map`: It exports the map to a csv file. You don't need to use it in this assignment.\n",
    "- `print_map`: It prints the map in the console to visualize it.\n",
    "\n",
    "You can create your own map [here](https://project.amfakhimi.com/maze-visualizer).  Before exporting the map, clear the map, first."
   ]
  },
  {
   "cell_type": "code",
   "execution_count": 11,
   "id": "7fdb851d-71d0-4d34-b24e-1c0a254d4f1c",
   "metadata": {
    "ExecuteTime": {
     "end_time": "2024-02-16T12:59:52.390893Z",
     "start_time": "2024-02-16T12:59:52.359838Z"
    }
   },
   "outputs": [],
   "source": [
    "class Maze:\n",
    "    def __init__(self, map, name):\n",
    "        self.name = name\n",
    "        \n",
    "        if type(map) == tuple:\n",
    "            self.height = map[0]\n",
    "            self.width = map[1]\n",
    "            self.map = np.zeros((self.height, self.width), dtype=str)\n",
    "            self.start = Tile(0, 0)\n",
    "            self.end = Tile(self.width - 1, self.height - 1)\n",
    "            \n",
    "            for y in range(self.height):\n",
    "                for x in range(self.width):\n",
    "                    if x == self.start.x and y == self.start.y:\n",
    "                        self.map[y][x] = 'S'\n",
    "                    elif x == self.end.x and y == self.end.y:\n",
    "                        self.map[y][x] = 'E'\n",
    "                    else:\n",
    "                        self.map[y][x] = random.choice(['0', '1'], p=[0.8, 0.2])\n",
    "            \n",
    "        elif type(map) == str:\n",
    "            map_csv = pd.read_csv(map, header=None, dtype=str)\n",
    "            self.map = map_csv.values\n",
    "            for y, row in enumerate(self.map):\n",
    "                for x, char in enumerate(row):\n",
    "                    if char == 'V' or char == 'P':\n",
    "                        self.map[y][x] = '0'\n",
    "            \n",
    "        elif type(map) == list or type(map) == np.ndarray:\n",
    "            self.map = np.array(map)\n",
    "        else:\n",
    "            raise ValueError('Invalid map type')\n",
    "        \n",
    "        self.width = len(self.map[0])\n",
    "        self.height = len(self.map)\n",
    "        self.initial_map = map\n",
    "        \n",
    "        self.start = None\n",
    "        self.end = None\n",
    "        for y, row in enumerate(self.map):\n",
    "            for x, char in enumerate(row):\n",
    "                if char == 'S':\n",
    "                    self.start = Tile(x, y)\n",
    "                elif char == 'E':\n",
    "                    self.end = Tile(x, y)\n",
    "                    \n",
    "        if self.start is None or self.end is None:\n",
    "            raise ValueError('Map must contain a start and end point')\n",
    "        \n",
    "    def set_tile(self, x, y, value):\n",
    "        if value != 'S' and value != 'E' and value != 'P' and value != '0' and value != '1':\n",
    "            raise ValueError('Invalid tile value')\n",
    "        \n",
    "        self.map[y][x] = value\n",
    "        \n",
    "    def get_tile(self, x, y):\n",
    "        return self.map[y][x]\n",
    "        \n",
    "    def export_map(self, file_path):\n",
    "        csv = pd.DataFrame(self.map)\n",
    "        if file_path is not None:\n",
    "            csv.to_csv(file_path, index=False, header=False)\n",
    "        \n",
    "        return csv\n",
    "                \n",
    "    def print_map(self):\n",
    "        for row in self.map:\n",
    "            print(''.join([str(x) for x in row]))"
   ]
  },
  {
   "cell_type": "markdown",
   "id": "16845222f4274529",
   "metadata": {
    "collapsed": false
   },
   "source": [
    "## Algorithms (DFS, BFS, IDS, A*) (80 Points)\n",
    "It has the following attributes:\n",
    "- `maze`: The maze object.\n",
    "- `open_list`: A list of tiles that are not visited yet and we get the tile with lowest f by iterating through it.\n",
    "- `closed_list`: A list of tiles that are visited.\n",
    "- `path`: The path that the agent has found.\n",
    "\n",
    "The most important methods are:\n",
    "- `get_neighbors` (You should implement it -> 10 points): It returns the neighbors of the given tile.\n",
    "- `solve` (You should implement it -> 70 points): It solves the maze. You should use and fill the `open_list` and `closed_list` and `path` attributes. You should also determine if there's no path to the end point. It is an abstract method, and you should implement it in the subclasses. DFS has 10 points, BFS has 10 points, IDS has 20 points, and A* has 30 points. It has 70 points in total.\n",
    "- `print_path`: It prints the map with the path that the agent has found.\n",
    "- `export_closed_list`: It exports the closed list to a csv file. You don't need to use it in this assignment directly.\n",
    "- `export_path`: It exports the path to a csv file. You don't need to use it in this assignment directly.\n",
    "\n",
    "You should implement the `get_neighbors` in `Algorithm` class and `solve` in the subclasses (DFS, BFS, IDS, A*). You are free to add any other methods or attributes to the classes. (10 + 70 = 80 points)"
   ]
  },
  {
   "cell_type": "code",
   "execution_count": 12,
   "id": "e095ada2c9d16e05",
   "metadata": {
    "ExecuteTime": {
     "end_time": "2024-02-16T12:59:52.424928Z",
     "start_time": "2024-02-16T12:59:52.399328Z"
    },
    "collapsed": false
   },
   "outputs": [],
   "source": [
    "class Algorithm:\n",
    "    def __init__(self, maze):\n",
    "        self.maze = maze\n",
    "        self.open_list = []\n",
    "        self.closed_list = []\n",
    "        self.path = []\n",
    "        \n",
    "    def get_neighbors(self, tile):\n",
    "        neighbors = []\n",
    "\n",
    "        if tile. x < self.maze.width-1:\n",
    "            t1 = Tile(tile.x+1, tile.y)\n",
    "            if (not self.is_tile_in_closed_list(t1)) and self.is_tile_walkable(t1):\n",
    "                neighbors.append(t1)\n",
    "\n",
    "        if tile.y < self.maze.height-1:\n",
    "            t2 = Tile(tile.x, tile.y+1)\n",
    "            if (not self.is_tile_in_closed_list(t2)) and self.is_tile_walkable(t2):\n",
    "                neighbors.append(t2)\n",
    "\n",
    "        if tile.y > 0:\n",
    "            t3 = Tile(tile.x, tile.y-1)\n",
    "            if (not self.is_tile_in_closed_list(t3)) and self.is_tile_walkable(t3):\n",
    "                neighbors.append(t3)\n",
    "\n",
    "        if tile.x > 0:\n",
    "            t4 = Tile(tile.x-1, tile.y)\n",
    "            if (not self.is_tile_in_closed_list(t4)) and self.is_tile_walkable(t4):\n",
    "                neighbors.append(t4)\n",
    "\n",
    "        # TODO\n",
    "            \n",
    "        return neighbors\n",
    "    \n",
    "    # i implement this function to find start point of the map:\n",
    "\n",
    "    def find_start(self):\n",
    "        for i in range(self.maze.height):\n",
    "            for j in range(self.maze.width):\n",
    "                if self.maze.map[i][j] == 'S':\n",
    "                    return [i, j]\n",
    "                \n",
    "    def find_end(self):\n",
    "        for i in range(self.maze.height):\n",
    "            for j in range(self.maze.width):\n",
    "                if self.maze.map[i][j] == 'E':\n",
    "                    return [i, j]\n",
    "\n",
    "    def get_tile_from_list(self, tile, tile_list):\n",
    "        for t in tile_list:\n",
    "            if t == tile:\n",
    "                return t\n",
    "        \n",
    "        return None\n",
    "    \n",
    "    def get_tile_from_open_list(self, tile):\n",
    "        return self.get_tile_from_list(tile, self.open_list)\n",
    "    \n",
    "    def get_tile_from_closed_list(self, tile):\n",
    "        return self.get_tile_from_list(tile, self.closed_list)\n",
    "    \n",
    "    def is_tile_in_list(self, tile, tile_list):\n",
    "        for t in tile_list:\n",
    "            if t == tile:\n",
    "                return True\n",
    "        return False\n",
    "    \n",
    "    def is_tile_in_open_list(self, tile):\n",
    "        return self.is_tile_in_list(tile, self.open_list)\n",
    "    \n",
    "    def is_tile_in_closed_list(self, tile):\n",
    "        return self.is_tile_in_list(tile, self.closed_list)\n",
    "    \n",
    "    def is_tile_walkable(self, tile):\n",
    "        return self.maze.get_tile(tile.x, tile.y) != '1'\n",
    "    \n",
    "    @abstractmethod\n",
    "    def solve(self):\n",
    "        pass\n",
    "    \n",
    "    def print_path(self, path):\n",
    "        if path is None:\n",
    "            print('No path found')\n",
    "            return\n",
    "        \n",
    "        for y, row in enumerate(self.maze.map):\n",
    "            for x, char in enumerate(row):\n",
    "                if Tile(x, y) in path and char != 'S' and char != 'E':\n",
    "                    print('P', end='')\n",
    "                else:\n",
    "                    print(char, end='')\n",
    "            print()\n",
    "            \n",
    "    def export_closed_list(self, file_path):\n",
    "        closed_list = [[]]\n",
    "        for tile in self.closed_list:\n",
    "            closed_list[0].append(tile.x)\n",
    "            closed_list[0].append(tile.y)\n",
    "            \n",
    "        csv = pd.DataFrame(closed_list)\n",
    "        if file_path is not None:\n",
    "            csv.to_csv(file_path, index=False, header=False)\n",
    "            \n",
    "        return csv\n",
    "        \n",
    "    def export_path(self, file_path):\n",
    "        path = [[]]\n",
    "        for tile in self.path:\n",
    "            path[0].append(tile.x)\n",
    "            path[0].append(tile.y)\n",
    "        \n",
    "        csv = pd.DataFrame(path)\n",
    "        if file_path is not None:\n",
    "            csv.to_csv(file_path, index=False, header=False)\n",
    "        return csv"
   ]
  },
  {
   "cell_type": "code",
   "execution_count": 13,
   "id": "1b049121c997f8ba",
   "metadata": {
    "ExecuteTime": {
     "end_time": "2024-02-16T12:59:52.439651Z",
     "start_time": "2024-02-16T12:59:52.427818Z"
    },
    "collapsed": false
   },
   "outputs": [],
   "source": [
    "class DFS(Algorithm):\n",
    "    def __init__(self, maze):\n",
    "        super().__init__(maze)\n",
    "\n",
    "    def dfs(self, start):\n",
    "        self.closed_list.append(start)\n",
    "        neighbors = self.get_neighbors(start)\n",
    "        for neighbor in neighbors:\n",
    "            if self.maze.get_tile(neighbor.x, neighbor.y) == 'E':\n",
    "                neighbor.parent = start\n",
    "                return neighbor\n",
    "            else:\n",
    "                neighbor.parent = start\n",
    "                ret = self.dfs(neighbor)\n",
    "                if ret is not None:\n",
    "                    return ret\n",
    "        return None \n",
    "\n",
    "    def solve(self):\n",
    "        # TODO\n",
    "        s = self.find_start()\n",
    "        start = Tile(s[0], s[1])\n",
    "        end = self.dfs(start)\n",
    "        if end is not None:\n",
    "            while(end.parent is not None):\n",
    "                self.path.append(end)\n",
    "                end = end.parent\n",
    "            self.path[0:len(self.path)] = self.path[0:len(self.path)][::-1]\n",
    "\n",
    "        "
   ]
  },
  {
   "cell_type": "code",
   "execution_count": 14,
   "id": "9d5ac3045555ebb0",
   "metadata": {
    "ExecuteTime": {
     "end_time": "2024-02-16T12:59:52.457534Z",
     "start_time": "2024-02-16T12:59:52.443574Z"
    },
    "collapsed": false
   },
   "outputs": [],
   "source": [
    "class BFS(Algorithm):\n",
    "    def __init__(self, maze):\n",
    "        super().__init__(maze)\n",
    "        \n",
    "    def solve(self):\n",
    "        # TODO\n",
    "        s = self.find_start()\n",
    "        start = Tile(s[0], s[1])\n",
    "        self.open_list.append(start)\n",
    "        \n",
    "        index =  0\n",
    "        flag = 0\n",
    "        while(True):\n",
    "            start = self.open_list[index]\n",
    "            self.closed_list.append(start)\n",
    "            neighbors = self.get_neighbors(start)\n",
    "            for neighbor in neighbors:\n",
    "                if self.maze.get_tile(neighbor.x, neighbor.y) == 'E':\n",
    "                    neighbor.parent = start\n",
    "                    start = neighbor\n",
    "                    flag = 1\n",
    "                    break\n",
    "                elif not self.is_tile_in_open_list(neighbor):\n",
    "                    self.open_list.append(neighbor)\n",
    "                    neighbor.parent = start\n",
    "            index += 1\n",
    "            if flag == 1 or index >= len(self.open_list):\n",
    "                break\n",
    "            \n",
    "        if flag == 1:\n",
    "            end = start \n",
    "            if end is not None:\n",
    "                while(end.parent is not None):\n",
    "                    self.path.append(end)\n",
    "                    end = end.parent\n",
    "                self.path[0:len(self.path)] = self.path[0:len(self.path)][::-1]"
   ]
  },
  {
   "cell_type": "code",
   "execution_count": 15,
   "id": "33ccd936044bcb7d",
   "metadata": {
    "ExecuteTime": {
     "end_time": "2024-02-16T12:59:52.479311Z",
     "start_time": "2024-02-16T12:59:52.461964Z"
    },
    "collapsed": false
   },
   "outputs": [],
   "source": [
    "class IDS(Algorithm):\n",
    "    def __init__(self, maze):\n",
    "        super().__init__(maze)\n",
    "\n",
    "    def dfs(self, start, tresh_hold):\n",
    "        self.closed_list.append(start)\n",
    "\n",
    "        if tresh_hold <= 0:\n",
    "            return None\n",
    "        \n",
    "        neighbors = self.get_neighbors(start)\n",
    "        for neighbor in neighbors:\n",
    "            if self.maze.get_tile(neighbor.x, neighbor.y) == 'E':\n",
    "                neighbor.parent = start\n",
    "                return neighbor\n",
    "            else:\n",
    "                neighbor.parent = start\n",
    "                end = self.dfs(neighbor, tresh_hold-1)\n",
    "                if end is not None:\n",
    "                    return end\n",
    "                \n",
    "        return None \n",
    "        \n",
    "    def solve(self):\n",
    "        # TODO  \n",
    "        for tresh_hold in range(0, (self.maze.width * self.maze.height)):\n",
    "            s = self.find_start()\n",
    "            start = Tile(s[0], s[1])\n",
    "            self.closed_list = []\n",
    "            end = self.dfs(start, tresh_hold)\n",
    "            if end is not None:\n",
    "                while(end.parent is not None):\n",
    "                    self.path.append(end)\n",
    "                    end = end.parent\n",
    "                self.path[0:len(self.path)] = self.path[0:len(self.path)][::-1]\n",
    "                    \n",
    "                return"
   ]
  },
  {
   "cell_type": "code",
   "execution_count": 16,
   "id": "619c4e9ee3c261df",
   "metadata": {
    "ExecuteTime": {
     "end_time": "2024-02-16T12:59:54.376084Z",
     "start_time": "2024-02-16T12:59:54.359821Z"
    },
    "collapsed": false
   },
   "outputs": [],
   "source": [
    "class AStar(Algorithm):\n",
    "    def __init__(self, maze):\n",
    "        super().__init__(maze)\n",
    "        \n",
    "    def get_tile_with_lowest_f(self):\n",
    "        lowest_f = self.open_list[0]\n",
    "        \n",
    "        for tile in self.open_list:\n",
    "            if tile.f < lowest_f.f:\n",
    "                lowest_f = tile\n",
    "                \n",
    "        return lowest_f\n",
    "    \n",
    "    def get_h(self, tile):\n",
    "        # TODO\n",
    "        distance = self.maze.width + self.maze.height - tile.x -tile.y - 2\n",
    "        return distance\n",
    "    \n",
    "    def get_f(self, tile):\n",
    "        return tile.g + tile.h\n",
    "        \n",
    "    def solve(self):\n",
    "        # TODO\n",
    "        s = self.find_start()\n",
    "        start = Tile(s[0], s[1])\n",
    "        start.g = 0\n",
    "        start.h = self.get_h(start)\n",
    "        start.f = self.get_f(start)\n",
    "        self.open_list.append(start)\n",
    "        flag = 0\n",
    "        while(True):\n",
    "            start = self.get_tile_with_lowest_f()\n",
    "            self.closed_list.append(start)\n",
    "            self.open_list.remove(start)\n",
    "            neighbors = self.get_neighbors(start)\n",
    "\n",
    "            for neighbor in neighbors:\n",
    "                if self.maze.get_tile(neighbor.x, neighbor.y) == 'E':\n",
    "                    neighbor.g = start.g+1\n",
    "                    neighbor.h = 0\n",
    "                    neighbor.f = self.get_f(neighbor)\n",
    "                    neighbor.parent = start\n",
    "                    start = neighbor\n",
    "                    flag = 1\n",
    "                    self.open_list = []\n",
    "                    break\n",
    "                elif not self.is_tile_in_open_list(neighbor):\n",
    "                    neighbor.g = start.g+1\n",
    "                    neighbor.h = self.get_h(neighbor)\n",
    "                    neighbor.f = self.get_f(neighbor)\n",
    "                    neighbor.parent = start\n",
    "                    self.open_list.append(neighbor)\n",
    "            if len(self.open_list) == 0:\n",
    "                break\n",
    "        \n",
    "        if flag == 1:\n",
    "            end = start \n",
    "            if end is not None:\n",
    "                while(end.parent is not None):\n",
    "                    self.path.append(end)\n",
    "                    end = end.parent\n",
    "                self.path[0:len(self.path)] = self.path[0:len(self.path)][::-1]\n"
   ]
  },
  {
   "cell_type": "markdown",
   "id": "57bee2525f1b66ac",
   "metadata": {
    "collapsed": false
   },
   "source": [
    "The following cell exports all needed data. You can simply run it and upload its output in the [visualizer site](https://project.amfakhimi.com/maze-visualizer)."
   ]
  },
  {
   "cell_type": "code",
   "execution_count": 17,
   "id": "aac479f34cbc22f4",
   "metadata": {
    "ExecuteTime": {
     "end_time": "2024-02-16T12:59:56.460751Z",
     "start_time": "2024-02-16T12:59:56.454126Z"
    },
    "collapsed": false
   },
   "outputs": [],
   "source": [
    "def export_all(maze, solver, merge_file_path):\n",
    "    map_csv = maze.export_map(None)\n",
    "    closed_list_csv = solver.export_closed_list(None)\n",
    "    path_csv = solver.export_path(None)\n",
    "    \n",
    "    merge = pd.concat([closed_list_csv, path_csv, map_csv], axis=0)\n",
    "    merge.to_csv(merge_file_path, index=False, header=False)"
   ]
  },
  {
   "cell_type": "markdown",
   "id": "66be5e8428295b5b",
   "metadata": {
    "collapsed": false
   },
   "source": [
    "## Test (20 points)\n",
    "if you want to visualize the map, you can use `export_all` function and upload the output in the [visualizer site](https://project.amfakhimi.com/maze-visualizer).\n",
    "\n",
    "<br>\n",
    "<font size=5>\n",
    "After running below tests with seed 0 and (20, 20) as the maze's size, attach your outputs (4 outputs) to the final answer in Quera.\n",
    "<br>\n",
    "Your answers based on your implementations could be different from the expected answers, below. So, don't worry about the correctness of your answer. Just make sure that your code works correctly and you have attached the outputs."
   ]
  },
  {
   "cell_type": "code",
   "execution_count": 42,
   "id": "57ee8ad3dc386556",
   "metadata": {
    "ExecuteTime": {
     "end_time": "2024-02-16T12:59:59.713853Z",
     "start_time": "2024-02-16T12:59:59.683229Z"
    },
    "collapsed": false
   },
   "outputs": [
    {
     "name": "stdout",
     "output_type": "stream",
     "text": [
      "S0000000110000100010\n",
      "11000000100000000001\n",
      "00000000000001000000\n",
      "00000001010101000000\n",
      "00000000001000000001\n",
      "00001000001010010101\n",
      "00010000000000000000\n",
      "01001100101010001100\n",
      "00001110000000000010\n",
      "00000100000000100000\n",
      "00000000001100000000\n",
      "10100010010000000000\n",
      "01000000000010010001\n",
      "00001000000110101100\n",
      "10100001000001000011\n",
      "11000000000000000001\n",
      "00000000000000000000\n",
      "00000000001000000000\n",
      "10100100010000000010\n",
      "0101011100000010100E\n"
     ]
    }
   ],
   "source": [
    "random.seed(0)\n",
    "maze = Maze((20, 20), 'map')\n",
    "# maze = Maze('./Map.csv', 'map')\n",
    "\n",
    "maze.print_map()"
   ]
  },
  {
   "cell_type": "code",
   "execution_count": 43,
   "id": "8c8a380ac801d411",
   "metadata": {
    "ExecuteTime": {
     "end_time": "2024-02-16T13:00:00.812315Z",
     "start_time": "2024-02-16T13:00:00.747203Z"
    },
    "collapsed": false
   },
   "outputs": [
    {
     "name": "stdout",
     "output_type": "stream",
     "text": [
      "92\n",
      "SPPPPPPP110000100010\n",
      "1100000P100000000001\n",
      "0000000PPPPPP1000000\n",
      "000000010101P1000000\n",
      "000000000010PPPPPPP1\n",
      "000010000010100101P1\n",
      "00010000000000PP00PP\n",
      "01001100101010PP110P\n",
      "000011100PPPPPPPPP1P\n",
      "000001000PPPPP1PPPPP\n",
      "00000000PP11PPPPPPPP\n",
      "10100010P100PPPPPPPP\n",
      "01000000PPP01PP10PP1\n",
      "0000100000P110101100\n",
      "1010000100PPP1000011\n",
      "110000000000PPPPPPP1\n",
      "000000000000000000PP\n",
      "0000000000100000000P\n",
      "1010010001000000001P\n",
      "0101011100000010100E\n"
     ]
    }
   ],
   "source": [
    "solver = DFS(maze)\n",
    "solver.solve()\n",
    "path = solver.path\n",
    "\n",
    "print(len(path))\n",
    "solver.print_path(path)\n",
    "export_all(maze, solver, 'dfs.csv')"
   ]
  },
  {
   "cell_type": "code",
   "execution_count": 44,
   "id": "a635ede5e9942066",
   "metadata": {
    "ExecuteTime": {
     "end_time": "2024-02-16T13:00:03.419976Z",
     "start_time": "2024-02-16T13:00:03.319186Z"
    },
    "collapsed": false
   },
   "outputs": [
    {
     "name": "stdout",
     "output_type": "stream",
     "text": [
      "38\n",
      "SPPPPPP0110000100010\n",
      "110000P0100000000001\n",
      "000000P0000001000000\n",
      "000000P1010101000000\n",
      "000000PP001000000001\n",
      "0000100P001010010101\n",
      "0001000P000000000000\n",
      "0100110P101010001100\n",
      "0000111PP00000000010\n",
      "00000100P00000100000\n",
      "00000000P01100000000\n",
      "10100010P10000000000\n",
      "01000000PPP010010001\n",
      "0000100000P110101100\n",
      "1010000100PPP1000011\n",
      "110000000000PPPPPPP1\n",
      "000000000000000000PP\n",
      "0000000000100000000P\n",
      "1010010001000000001P\n",
      "0101011100000010100E\n"
     ]
    }
   ],
   "source": [
    "solver = BFS(maze)\n",
    "solver.solve()\n",
    "path = solver.path\n",
    "\n",
    "print(len(path))\n",
    "solver.print_path(path)\n",
    "export_all(maze, solver, 'bfs.csv')"
   ]
  },
  {
   "cell_type": "code",
   "execution_count": 45,
   "id": "50476cbd01182c37",
   "metadata": {
    "ExecuteTime": {
     "end_time": "2024-02-16T13:00:06.739563Z",
     "start_time": "2024-02-16T13:00:04.953417Z"
    },
    "collapsed": false
   },
   "outputs": [
    {
     "name": "stdout",
     "output_type": "stream",
     "text": [
      "44\n",
      "SPPPPPPP110000100010\n",
      "1100000P100000000001\n",
      "0000000PPPPPP1000000\n",
      "000000010101P1000000\n",
      "00000000001PP0000001\n",
      "00001000001P10010101\n",
      "00010000000P00000000\n",
      "01001100101P10001100\n",
      "00001110000PP0000010\n",
      "000001000000P0100000\n",
      "000000000011P0000000\n",
      "10100010010PP0000000\n",
      "0100000000PP10010001\n",
      "0000100000P110101100\n",
      "1010000100PPP1000011\n",
      "110000000000PPPPPPP1\n",
      "000000000000000000PP\n",
      "0000000000100000000P\n",
      "1010010001000000001P\n",
      "0101011100000010100E\n"
     ]
    }
   ],
   "source": [
    "solver = IDS(maze)\n",
    "solver.solve()\n",
    "path = solver.path\n",
    "\n",
    "print(len(path))\n",
    "solver.print_path(path)\n",
    "export_all(maze, solver, 'ids.csv')"
   ]
  },
  {
   "cell_type": "code",
   "execution_count": 46,
   "id": "318ff1a80012fc09",
   "metadata": {
    "ExecuteTime": {
     "end_time": "2024-02-16T13:00:10.425200Z",
     "start_time": "2024-02-16T13:00:10.357503Z"
    },
    "collapsed": false
   },
   "outputs": [
    {
     "name": "stdout",
     "output_type": "stream",
     "text": [
      "38\n",
      "SPPPPPP0110000100010\n",
      "110000P0100000000001\n",
      "000000P0000001000000\n",
      "000000P1010101000000\n",
      "000000PP001000000001\n",
      "0000100P001010010101\n",
      "0001000P000000000000\n",
      "0100110P101010001100\n",
      "0000111PP00000000010\n",
      "00000100P00000100000\n",
      "00000000P01100000000\n",
      "10100010P10000000000\n",
      "01000000PPP010010001\n",
      "0000100000P110101100\n",
      "1010000100PPP1000011\n",
      "110000000000PPPPPPP1\n",
      "000000000000000000PP\n",
      "0000000000100000000P\n",
      "1010010001000000001P\n",
      "0101011100000010100E\n"
     ]
    }
   ],
   "source": [
    "solver = AStar(maze)\n",
    "solver.solve()\n",
    "path = solver.path\n",
    "\n",
    "print(len(path))\n",
    "solver.print_path(path)\n",
    "export_all(maze, solver, 'a_star.csv')"
   ]
  },
  {
   "cell_type": "markdown",
   "id": "65e5615b",
   "metadata": {},
   "source": [
    "<span style=\"color:blue\">**my note :\n",
    "<br>\n",
    "in ids algorithm we have a lot of loops in our map and if we want to search without holding visited node \n",
    "in each node we have 4 option to choose next node and it's in the worst case in order of O(4^400) for a \n",
    "20*20 table \n",
    "so we should hold visited nodes and it also create a problem the optimal path may not be found because\n",
    "when we do dfs we may visit a node and it's distacnce from the source can be bigger than it's min distance \n",
    "from the source**</span>"
   ]
  }
 ],
 "metadata": {
  "kernelspec": {
   "display_name": "Python 3 (ipykernel)",
   "language": "python",
   "name": "python3"
  },
  "language_info": {
   "codemirror_mode": {
    "name": "ipython",
    "version": 3
   },
   "file_extension": ".py",
   "mimetype": "text/x-python",
   "name": "python",
   "nbconvert_exporter": "python",
   "pygments_lexer": "ipython3",
   "version": "3.11.5"
  }
 },
 "nbformat": 4,
 "nbformat_minor": 5
}
