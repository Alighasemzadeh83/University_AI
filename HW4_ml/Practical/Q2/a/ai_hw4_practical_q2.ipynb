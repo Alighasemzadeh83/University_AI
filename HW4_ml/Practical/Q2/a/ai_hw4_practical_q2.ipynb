{
  "cells": [
    {
      "cell_type": "markdown",
      "metadata": {
        "id": "VU4moqMhIoyr"
      },
      "source": [
        "<br>\n",
        "<font>\n",
        "<div dir=ltr align=center>\n",
        "<img src=\"https://cdn.freebiesupply.com/logos/large/2x/sharif-logo-png-transparent.png\" width=150 height=150> <br>\n",
        "<font color=0F5298 size=7>\n",
        "    Artificial Intelligence <br>\n",
        "<font color=2565AE size=5>\n",
        "    Computer Engineering Department <br>\n",
        "    Spring 2024<br>\n",
        "<font color=3C99D size=5>\n",
        "    Practical Assignment 4 - Machine Learning - Classification <br>\n",
        "<font color=0CBCDF size=4>\n",
        "   &#x1F335; Amirhossein Akbari  &#x1F335;\n",
        "</div>\n",
        "\n",
        "____"
      ]
    },
    {
      "cell_type": "markdown",
      "metadata": {
        "id": "dFTwS6n5URPb"
      },
      "source": [
        "<font color=9999FF size=4>\n",
        "&#x1F388; Full Name : \"Ali Ghasemzadeh\"\n",
        "<br>\n",
        "<font color=9999FF size=4>\n",
        "&#x1F388; Student Number : \"401106339\""
      ]
    },
    {
      "cell_type": "markdown",
      "metadata": {
        "id": "IiM06_OmL7mK"
      },
      "source": [
        "<font color=0080FF size=3>\n",
        "This Jupyter Notebook is dedicated to exploring a classification task focused on predicting traveler satisfaction levels with airline services. In our scenario, we aim to classify whether a passenger is satisfied or not based on various features related to their travel experience. To tackle this task, we will develop and compare three different machine learning models:\n",
        "</font>\n",
        "<br>\n",
        "\n",
        "1. **Naive Bayes Classifier**: <font color=66B2FF size=2>We'll start by implementing a Naive Bayes classifier without the use of high-level libraries, understanding its mechanics and applying it to our dataset.</font>\n",
        "\n",
        "2. **Decision Tree Classifier**: <font color=66B2FF size=2>Next, we will build a Decision Tree model from the ground up, enabling us to delve into how decisions are made and splits are performed based on the data.</font>\n",
        "\n",
        "<font color=0080FF size=3>\n",
        "For each model, we'll go through the process of data preprocessing, model training, and evaluation to compare their performance. By the end of this notebook, you should have a clear understanding of these models' workings and their effectiveness in predicting airline passenger satisfaction.\n",
        "</font>"
      ]
    },
    {
      "cell_type": "markdown",
      "metadata": {
        "id": "7ULfSjsro_4s"
      },
      "source": [
        "1. <font color=red size=3>**Run All Cells Before Submission**</font>: <font color=FF99CC size=2>Before saving and submitting your notebook, please ensure you run all cells from start to finish. This practice guarantees that your notebook is self-consistent and can be evaluated correctly by others.</font>\n",
        "\n",
        "2. <font color=red size=3>**Model Evaluation and Scoring Criteria**</font>: <font color=FF99CC size=2>To receive full marks for a model implementation, the accuracy of your custom model must be within 5 percentage points of the corresponding scikit-learn model's accuracy. Should your model's accuracy fall more than <mark>5 percentage</mark> points below that of the scikit-learn model, or if the scikit-learn model's accuracy is below 80%, points will be deducted accordingly.</font>"
      ]
    },
    {
      "cell_type": "markdown",
      "metadata": {},
      "source": [
        "<font color=#ffb578 size=3>\n",
        "you are free to modify, add, or remove any cells as you see fit to complete your tasks. Feel free to change any of the provided code or content to better suit your understanding and approach to the problems.\n",
        "\n",
        "- **Questions**: If you have any questions or require clarifications as you work through the notebook, please do not hesitate to ask. You can post your queries on Quera or reach out via Telegram.\n",
        "- **Feedback**: We encourage you to seek feedback and engage in discussions to enhance your learning experience and improve your solutions.\n",
        "</font>"
      ]
    },
    {
      "cell_type": "markdown",
      "metadata": {
        "id": "c_QEgiwhVGFz"
      },
      "source": [
        "Importing necessary libraries"
      ]
    },
    {
      "cell_type": "code",
      "execution_count": 1,
      "metadata": {
        "_cell_guid": "b1076dfc-b9ad-4769-8c92-a6c4dae69d19",
        "_uuid": "8f2839f25d086af736a60e9eeb907d3b93b6e0e5",
        "id": "AbgV1TkxAFGW",
        "trusted": true
      },
      "outputs": [],
      "source": [
        "import os\n",
        "import pandas as pd\n",
        "import matplotlib.pyplot as plt\n",
        "import seaborn as sns\n",
        "from sklearn.model_selection import train_test_split\n",
        "from sklearn.metrics import classification_report, confusion_matrix\n",
        "import numpy as np"
      ]
    },
    {
      "cell_type": "markdown",
      "metadata": {
        "id": "mQFg_wzMAFGZ"
      },
      "source": [
        "Before proceeding, please execute the cell below to download the dataset if you're using Kaggle or Colab; if running locally, utilize the dataset in the 'HW' folder."
      ]
    },
    {
      "cell_type": "code",
      "execution_count": 2,
      "metadata": {
        "id": "j2n2dfz5AFGb",
        "trusted": true
      },
      "outputs": [
        {
          "name": "stderr",
          "output_type": "stream",
          "text": [
            "'wget' is not recognized as an internal or external command,\n",
            "operable program or batch file.\n"
          ]
        }
      ],
      "source": [
        "# %pip install wget\n",
        "current_path = os.getcwd()\n",
        "data_url = \"https://www.dropbox.com/scl/fi/75xu0qz933plnpid1uplz/AI-HW4-Q2-Data.csv?rlkey=47o5ksm1qyoabswahequk7t1d&dl=0\"\n",
        "data_path = os.path.join(current_path, \"data.csv\")\n",
        "!wget -q -O \"{data_path}\" \"{data_url}\""
      ]
    },
    {
      "cell_type": "markdown",
      "metadata": {
        "id": "s4-fgsUxAFGc"
      },
      "source": [
        "# Data Exploration (5 point)\n",
        "In this section, we perform some data exploration to get a better understanding of the data."
      ]
    },
    {
      "cell_type": "markdown",
      "metadata": {
        "id": "0D6is7_XAFGd"
      },
      "source": [
        "## Task1: Load and Inspect the Dataset (2 point)\n",
        "Load the train dataset as a dataframe and show the first 10 rows of the dataframe"
      ]
    },
    {
      "cell_type": "code",
      "execution_count": 3,
      "metadata": {
        "colab": {
          "base_uri": "https://localhost:8080/",
          "height": 571
        },
        "id": "7opFrctRAFGe",
        "outputId": "5b82785e-ea1f-4b05-83c2-bf5f92fa6aa5",
        "trusted": true
      },
      "outputs": [
        {
          "data": {
            "text/html": [
              "<div>\n",
              "<style scoped>\n",
              "    .dataframe tbody tr th:only-of-type {\n",
              "        vertical-align: middle;\n",
              "    }\n",
              "\n",
              "    .dataframe tbody tr th {\n",
              "        vertical-align: top;\n",
              "    }\n",
              "\n",
              "    .dataframe thead th {\n",
              "        text-align: right;\n",
              "    }\n",
              "</style>\n",
              "<table border=\"1\" class=\"dataframe\">\n",
              "  <thead>\n",
              "    <tr style=\"text-align: right;\">\n",
              "      <th></th>\n",
              "      <th>Customer Type</th>\n",
              "      <th>Type of Travel</th>\n",
              "      <th>Class</th>\n",
              "      <th>Flight Distance</th>\n",
              "      <th>Inflight wifi service</th>\n",
              "      <th>Ease of Online booking</th>\n",
              "      <th>Online boarding</th>\n",
              "      <th>Seat comfort</th>\n",
              "      <th>Inflight entertainment</th>\n",
              "      <th>satisfaction</th>\n",
              "    </tr>\n",
              "  </thead>\n",
              "  <tbody>\n",
              "    <tr>\n",
              "      <th>0</th>\n",
              "      <td>Loyal Customer</td>\n",
              "      <td>Business travel</td>\n",
              "      <td>Business</td>\n",
              "      <td>1727</td>\n",
              "      <td>1</td>\n",
              "      <td>1</td>\n",
              "      <td>4</td>\n",
              "      <td>5</td>\n",
              "      <td>5</td>\n",
              "      <td>satisfied</td>\n",
              "    </tr>\n",
              "    <tr>\n",
              "      <th>1</th>\n",
              "      <td>Loyal Customer</td>\n",
              "      <td>Personal Travel</td>\n",
              "      <td>Eco</td>\n",
              "      <td>1546</td>\n",
              "      <td>3</td>\n",
              "      <td>3</td>\n",
              "      <td>3</td>\n",
              "      <td>2</td>\n",
              "      <td>2</td>\n",
              "      <td>neutral or dissatisfied</td>\n",
              "    </tr>\n",
              "    <tr>\n",
              "      <th>2</th>\n",
              "      <td>disloyal Customer</td>\n",
              "      <td>Business travel</td>\n",
              "      <td>Eco</td>\n",
              "      <td>1086</td>\n",
              "      <td>5</td>\n",
              "      <td>5</td>\n",
              "      <td>5</td>\n",
              "      <td>1</td>\n",
              "      <td>1</td>\n",
              "      <td>satisfied</td>\n",
              "    </tr>\n",
              "    <tr>\n",
              "      <th>3</th>\n",
              "      <td>Loyal Customer</td>\n",
              "      <td>Business travel</td>\n",
              "      <td>Business</td>\n",
              "      <td>2644</td>\n",
              "      <td>2</td>\n",
              "      <td>5</td>\n",
              "      <td>4</td>\n",
              "      <td>3</td>\n",
              "      <td>2</td>\n",
              "      <td>neutral or dissatisfied</td>\n",
              "    </tr>\n",
              "    <tr>\n",
              "      <th>4</th>\n",
              "      <td>Loyal Customer</td>\n",
              "      <td>Business travel</td>\n",
              "      <td>Eco</td>\n",
              "      <td>302</td>\n",
              "      <td>4</td>\n",
              "      <td>1</td>\n",
              "      <td>3</td>\n",
              "      <td>4</td>\n",
              "      <td>4</td>\n",
              "      <td>neutral or dissatisfied</td>\n",
              "    </tr>\n",
              "    <tr>\n",
              "      <th>5</th>\n",
              "      <td>Loyal Customer</td>\n",
              "      <td>Business travel</td>\n",
              "      <td>Eco</td>\n",
              "      <td>125</td>\n",
              "      <td>5</td>\n",
              "      <td>2</td>\n",
              "      <td>5</td>\n",
              "      <td>5</td>\n",
              "      <td>5</td>\n",
              "      <td>satisfied</td>\n",
              "    </tr>\n",
              "    <tr>\n",
              "      <th>6</th>\n",
              "      <td>Loyal Customer</td>\n",
              "      <td>Business travel</td>\n",
              "      <td>Business</td>\n",
              "      <td>248</td>\n",
              "      <td>3</td>\n",
              "      <td>3</td>\n",
              "      <td>5</td>\n",
              "      <td>5</td>\n",
              "      <td>5</td>\n",
              "      <td>satisfied</td>\n",
              "    </tr>\n",
              "    <tr>\n",
              "      <th>7</th>\n",
              "      <td>disloyal Customer</td>\n",
              "      <td>Business travel</td>\n",
              "      <td>Eco</td>\n",
              "      <td>547</td>\n",
              "      <td>2</td>\n",
              "      <td>2</td>\n",
              "      <td>2</td>\n",
              "      <td>1</td>\n",
              "      <td>1</td>\n",
              "      <td>neutral or dissatisfied</td>\n",
              "    </tr>\n",
              "    <tr>\n",
              "      <th>8</th>\n",
              "      <td>Loyal Customer</td>\n",
              "      <td>Business travel</td>\n",
              "      <td>Eco Plus</td>\n",
              "      <td>472</td>\n",
              "      <td>4</td>\n",
              "      <td>1</td>\n",
              "      <td>4</td>\n",
              "      <td>4</td>\n",
              "      <td>4</td>\n",
              "      <td>satisfied</td>\n",
              "    </tr>\n",
              "    <tr>\n",
              "      <th>9</th>\n",
              "      <td>Loyal Customer</td>\n",
              "      <td>Business travel</td>\n",
              "      <td>Business</td>\n",
              "      <td>2875</td>\n",
              "      <td>2</td>\n",
              "      <td>4</td>\n",
              "      <td>4</td>\n",
              "      <td>4</td>\n",
              "      <td>5</td>\n",
              "      <td>satisfied</td>\n",
              "    </tr>\n",
              "  </tbody>\n",
              "</table>\n",
              "</div>"
            ],
            "text/plain": [
              "       Customer Type   Type of Travel     Class  Flight Distance  \\\n",
              "0     Loyal Customer  Business travel  Business             1727   \n",
              "1     Loyal Customer  Personal Travel       Eco             1546   \n",
              "2  disloyal Customer  Business travel       Eco             1086   \n",
              "3     Loyal Customer  Business travel  Business             2644   \n",
              "4     Loyal Customer  Business travel       Eco              302   \n",
              "5     Loyal Customer  Business travel       Eco              125   \n",
              "6     Loyal Customer  Business travel  Business              248   \n",
              "7  disloyal Customer  Business travel       Eco              547   \n",
              "8     Loyal Customer  Business travel  Eco Plus              472   \n",
              "9     Loyal Customer  Business travel  Business             2875   \n",
              "\n",
              "   Inflight wifi service  Ease of Online booking  Online boarding  \\\n",
              "0                      1                       1                4   \n",
              "1                      3                       3                3   \n",
              "2                      5                       5                5   \n",
              "3                      2                       5                4   \n",
              "4                      4                       1                3   \n",
              "5                      5                       2                5   \n",
              "6                      3                       3                5   \n",
              "7                      2                       2                2   \n",
              "8                      4                       1                4   \n",
              "9                      2                       4                4   \n",
              "\n",
              "   Seat comfort  Inflight entertainment             satisfaction  \n",
              "0             5                       5                satisfied  \n",
              "1             2                       2  neutral or dissatisfied  \n",
              "2             1                       1                satisfied  \n",
              "3             3                       2  neutral or dissatisfied  \n",
              "4             4                       4  neutral or dissatisfied  \n",
              "5             5                       5                satisfied  \n",
              "6             5                       5                satisfied  \n",
              "7             1                       1  neutral or dissatisfied  \n",
              "8             4                       4                satisfied  \n",
              "9             4                       5                satisfied  "
            ]
          },
          "execution_count": 3,
          "metadata": {},
          "output_type": "execute_result"
        }
      ],
      "source": [
        "# Load dataset and display the first 10 rows\n",
        "df = pd.read_csv(\"Dataset/data.csv\")\n",
        "df.head(10)"
      ]
    },
    {
      "cell_type": "markdown",
      "metadata": {
        "id": "mo8LOXwvAFGe"
      },
      "source": [
        "## Task 2: Dataset Overview (4 point)\n",
        "Perform an initial exploration of the dataset to understand its structure, including the number of features, rows, and the types of data (numerical or categorical) it contains. Use methods like [.info()](https://pandas.pydata.org/docs/reference/api/pandas.DataFrame.info.html) and [.describe()](https://pandas.pydata.org/pandas-docs/stable/reference/api/pandas.DataFrame.describe.html) for this purpose."
      ]
    },
    {
      "cell_type": "code",
      "execution_count": 4,
      "metadata": {
        "colab": {
          "base_uri": "https://localhost:8080/"
        },
        "id": "OxqTxOkNAFGe",
        "outputId": "64e041c1-a018-478b-f5ee-8a896c2bf69f",
        "trusted": true
      },
      "outputs": [
        {
          "name": "stdout",
          "output_type": "stream",
          "text": [
            "(25000, 10)\n",
            "<class 'pandas.core.frame.DataFrame'>\n",
            "RangeIndex: 25000 entries, 0 to 24999\n",
            "Data columns (total 10 columns):\n",
            " #   Column                  Non-Null Count  Dtype \n",
            "---  ------                  --------------  ----- \n",
            " 0   Customer Type           25000 non-null  object\n",
            " 1   Type of Travel          25000 non-null  object\n",
            " 2   Class                   25000 non-null  object\n",
            " 3   Flight Distance         25000 non-null  int64 \n",
            " 4   Inflight wifi service   25000 non-null  int64 \n",
            " 5   Ease of Online booking  25000 non-null  int64 \n",
            " 6   Online boarding         25000 non-null  int64 \n",
            " 7   Seat comfort            25000 non-null  int64 \n",
            " 8   Inflight entertainment  25000 non-null  int64 \n",
            " 9   satisfaction            25000 non-null  object\n",
            "dtypes: int64(6), object(4)\n",
            "memory usage: 1.9+ MB\n",
            "None\n"
          ]
        }
      ],
      "source": [
        "print(df.shape)\n",
        "print(df.info())"
      ]
    },
    {
      "cell_type": "markdown",
      "metadata": {
        "id": "QgTP4O7LAFGf"
      },
      "source": [
        "## Task 3: Distribution and Analysis (4 point)\n",
        "Visualize the distribution of both numerical and categorical features in the dataset using [histograms](https://matplotlib.org/stable/gallery/statistics/hist.html) for numerical data and [bar charts](https://matplotlib.org/stable/api/_as_gen/matplotlib.pyplot.bar.html) for categorical data. Analyze these distributions to identify any patterns, outliers, or anomalies in the data."
      ]
    },
    {
      "cell_type": "code",
      "execution_count": 5,
      "metadata": {
        "colab": {
          "base_uri": "https://localhost:8080/",
          "height": 905
        },
        "id": "Wdt8nSlkAFGf",
        "outputId": "02dd4f8c-93f2-43c8-c100-7ba43ffc7eb5",
        "trusted": true
      },
      "outputs": [
        {
          "data": {
            "image/png": "[encoded data removed]",
            "text/plain": [
              "<Figure size 1500x1000 with 6 Axes>"
            ]
          },
          "metadata": {},
          "output_type": "display_data"
        },
        {
          "data": {
            "image/png": "[encoded data removed]",
            "text/plain": [
              "<Figure size 1500x500 with 3 Axes>"
            ]
          },
          "metadata": {},
          "output_type": "display_data"
        }
      ],
      "source": [
        "numerical_cols = df.select_dtypes(include=['int64', 'float64']).columns\n",
        "numerical_size = len(numerical_cols)\n",
        "row_size = 3\n",
        "num_numerical_rows = -(-numerical_size // row_size)\n",
        "\n",
        "fig, axes = plt.subplots(num_numerical_rows, row_size, figsize=(15, 5*num_numerical_rows))\n",
        "for i, column in enumerate(numerical_cols):\n",
        "    row = i // row_size\n",
        "    col = i % row_size\n",
        "    ax = axes[row, col] if num_numerical_rows > 1 else axes[col]\n",
        "    df[column].plot(kind=\"hist\", ax=ax, bins=20, title=column, color=\"skyblue\",  edgecolor=\"black\")\n",
        "    ax.set_xlabel(column)\n",
        "    ax.set_ylabel('Frequency')\n",
        "\n",
        "plt.tight_layout()\n",
        "plt.show()\n",
        "\n",
        "categorical_cols = df.select_dtypes(include=['object']).columns\n",
        "categorical_cols = categorical_cols.drop('satisfaction', errors='ignore')\n",
        "categorical_size = len(categorical_cols)\n",
        "num_categorical_rows = -(-categorical_size // row_size)\n",
        "\n",
        "fig, axes = plt.subplots(num_categorical_rows, row_size, figsize=(15, 5*num_categorical_rows))\n",
        "for i, column in enumerate(categorical_cols):\n",
        "    row = i // row_size\n",
        "    col = i % row_size\n",
        "    ax = axes[row, col] if num_categorical_rows > 1 else axes[col]\n",
        "    df[column].value_counts()[::-1].plot(kind='barh', ax=ax, title=column, edgecolor=\"black\")\n",
        "    ax.set_xlabel(column)\n",
        "    ax.set_ylabel('Count')\n",
        "\n",
        "plt.tight_layout()\n",
        "plt.show()"
      ]
    },
    {
      "cell_type": "markdown",
      "metadata": {
        "id": "_0LPz5c2AFGh"
      },
      "source": [
        "## Task 1: Handling Missing Values (2 point)\n",
        "In this task, we will handle missing values by [dropping](https://pandas.pydata.org/docs/reference/api/pandas.DataFrame.drop.html) records that contain missing values."
      ]
    },
    {
      "cell_type": "code",
      "execution_count": 6,
      "metadata": {
        "id": "2P_dgekiAFGh",
        "trusted": true
      },
      "outputs": [],
      "source": [
        "df = df.dropna()"
      ]
    },
    {
      "cell_type": "markdown",
      "metadata": {
        "id": "0QEc77QGAFGi"
      },
      "source": [
        "## Task 2: Converting Categorical Variables to Numeric (7 point)\n",
        "We will use [one-hot encoding](https://www.kdnuggets.com/2023/07/pandas-onehot-encode-data.html) to convert categorical variables into a format that can be provided to ML algorithms. Also convert the categorical target variable 'satisfaction' into numeric format, where 'satisfied' is mapped to 1 and 'neutral or dissatisfied' is mapped to 0."
      ]
    },
    {
      "cell_type": "code",
      "execution_count": 7,
      "metadata": {
        "id": "26ZbJtJ6AFGj",
        "trusted": true
      },
      "outputs": [],
      "source": [
        "df_one_hot = pd.get_dummies(df, columns=categorical_cols)\n",
        "df_one_hot['satisfaction'] = df_one_hot['satisfaction'].map({'satisfied': 1, 'neutral or dissatisfied': 0})\n",
        "df_one_hot = df_one_hot.astype(int)"
      ]
    },
    {
      "cell_type": "markdown",
      "metadata": {
        "id": "-nR1U95fAFGj"
      },
      "source": [
        "## Task 3: Splitting the Data into Training and Test Sets(6 point)\n",
        "Finally, [split your data](https://scikit-learn.org/stable/modules/generated/sklearn.model_selection.train_test_split.html) into training and test sets. This is a critical step for training and evaluating the performance of your models."
      ]
    },
    {
      "cell_type": "code",
      "execution_count": 8,
      "metadata": {
        "colab": {
          "base_uri": "https://localhost:8080/"
        },
        "id": "H1aAb9WnAFGj",
        "outputId": "d8342229-78af-4056-a101-25af3cecae90",
        "trusted": true
      },
      "outputs": [
        {
          "name": "stdout",
          "output_type": "stream",
          "text": [
            "(20000, 13) (20000,)\n",
            "(5000, 13) (5000,)\n"
          ]
        }
      ],
      "source": [
        "X = df_one_hot.drop(columns=['satisfaction']).values\n",
        "Y = df_one_hot['satisfaction'].values\n",
        "X_train, X_test, Y_train, Y_test = train_test_split(X, Y, test_size=0.2, random_state=42)\n",
        "print(X_train.shape, Y_train.shape)\n",
        "print(X_test.shape, Y_test.shape)"
      ]
    },
    {
      "cell_type": "markdown",
      "metadata": {},
      "source": [
        "<font size=3>\n",
        "Now that our data is prepared and we have separate training and testing datasets, along with the necessary preprocessing completed, we are ready to move on to the model building and training phase. We will start with the Naive Bayes classifier, which is our first model in this series of experiments."
      ]
    },
    {
      "cell_type": "markdown",
      "metadata": {
        "id": "ik9gIoYAAFGk"
      },
      "source": [
        "# Naive Bayes Classifier (25 point)"
      ]
    },
    {
      "cell_type": "markdown",
      "metadata": {
        "id": "9mT-KY3GAFGk"
      },
      "source": [
        "## Task 1: Implement Naive Bayes Classifier from Scratch (15 point)\n",
        "In this task, you will implement the [Naive Bayes Classifier](https://en.wikipedia.org/wiki/Naive_Bayes_classifier) from scratch. This will involve calculating the prior probabilities for each class, the likelihood of the data given the class, and using these to calculate the posterior probabilities for the prediction.\n",
        "\n",
        "\n",
        "[This video](https://www.youtube.com/watch?v=O2L2Uv9pdDA) will be helpful too.\n",
        "Especially [this model](https://www.youtube.com/watch?v=H3EjCKtlVog).\n"
      ]
    },
    {
      "cell_type": "code",
      "execution_count": 11,
      "metadata": {
        "id": "vZV9TjBAAFGk",
        "trusted": true
      },
      "outputs": [],
      "source": [
        "class NaiveBayesClassifier:\n",
        "    def __init__(self):\n",
        "        self.classes = None\n",
        "        self.mean = None\n",
        "        self.variances = None\n",
        "        self.priors = None\n",
        "\n",
        "    def fit(self, X, y):\n",
        "        n_samples, n_features = X.shape\n",
        "        self.classes = np.unique(y)\n",
        "        n_classes = len(self.classes)\n",
        "\n",
        "        self.mean = np.zeros((n_classes, n_features), dtype=np.float64)\n",
        "        self.variances = np.zeros((n_classes, n_features), dtype=np.float64)\n",
        "        self.priors = np.zeros(n_classes, dtype=np.float64)\n",
        "\n",
        "        for idx, clas in enumerate(self.classes):\n",
        "            X_clas = X[y == clas]\n",
        "            self.mean[idx, :] = X_clas.mean(axis=0)\n",
        "            self.variances[idx, :] = X_clas.var(axis=0)\n",
        "            self.priors[idx] = X_clas.shape[0] / float(n_samples)\n",
        "\n",
        "    def _gaussian_pdf(self, class_idx, x):\n",
        "        mean = self.mean[class_idx]\n",
        "        variance = self.variances[class_idx]\n",
        "        return np.exp(- (x - mean) ** 2 / (2 * variance)) / np.sqrt(2 * np.pi * variance)\n",
        "\n",
        "    def predict_one_x(self, x):\n",
        "        posteriors = []\n",
        "        for idx, c in enumerate(self.classes):\n",
        "            # get the log of prior sample \n",
        "            prior = np.log(self.priors[idx]) \n",
        "            # we have product of conditional probs and when we get log from them product changes to sum of logs\n",
        "            conditionals = np.sum(np.log(self._gaussian_pdf(idx, x)))\n",
        "            posterior = prior + conditionals # posterior = prior * conditionals and when we get log : log(posterior) = log(prior) +\n",
        "                                                                                                                    # log(conditionals)\n",
        "            posteriors.append(posterior) \n",
        "        return self.classes[np.argmax(posteriors)] # return the porsterior that have the maximum of log prob\n",
        "\n",
        "    def predict(self, X):\n",
        "        return np.array([self.predict_one_x(x) for x in X])"
      ]
    },
    {
      "cell_type": "markdown",
      "metadata": {
        "id": "LPWNCqf6AFGl"
      },
      "source": [
        "## Task 2: Train Naive Bayes Model from Scratch (2 point)\n",
        "Instantiate the NaiveBayesClassifier class and fit it to the training data."
      ]
    },
    {
      "cell_type": "code",
      "execution_count": 12,
      "metadata": {
        "id": "sbcCDjkQAFGl",
        "trusted": true
      },
      "outputs": [],
      "source": [
        "# Instantiate the NaiveBayesClassifier and train it with the training dataset\n",
        "# TODO: Create an instance of NaiveBayesClassifier and fit it to the training data using the fit method.\n",
        "naive = NaiveBayesClassifier()\n",
        "naive.fit(X_train, Y_train)"
      ]
    },
    {
      "cell_type": "markdown",
      "metadata": {
        "id": "beC0aQ0NAFGm"
      },
      "source": [
        "## Task 3: Train Naive Bayes Model Using scikit-learn (5 point)\n",
        "Utilize the [Naive Bayes class from scikit-learn](https://scikit-learn.org/stable/modules/naive_bayes.html) to train a Naive Bayes model on the same dataset."
      ]
    },
    {
      "cell_type": "code",
      "execution_count": 18,
      "metadata": {
        "colab": {
          "base_uri": "https://localhost:8080/",
          "height": 74
        },
        "id": "X8ZfPQB0AFGm",
        "outputId": "c53a0598-ffb2-4d32-b8f6-7336b6f82153",
        "trusted": true
      },
      "outputs": [
        {
          "name": "stdout",
          "output_type": "stream",
          "text": [
            "number of wrongs from 5000 points is : 846\n"
          ]
        }
      ],
      "source": [
        "# Initialize and train a Gaussian Naive Bayes model using scikit-learn\n",
        "# TODO: Use scikit-learn's GaussianNB to create and fit a model to the training dataset.\n",
        "from sklearn.naive_bayes import GaussianNB\n",
        "gnb = GaussianNB()\n",
        "gnb.fit(X_train, Y_train)\n",
        "y_pred = gnb.predict(X_test)\n",
        "print(\"number of wrongs from %d points is : %d\"% (X_test.shape[0], (Y_test != y_pred).sum()))"
      ]
    },
    {
      "cell_type": "markdown",
      "metadata": {
        "id": "NCNLg0oBAFGm"
      },
      "source": [
        "## Task 4: Evaluate and Compare Both Models (3 point)\n",
        "Evaluate both the custom-built Naive Bayes model and the scikit-learn model. The primary metric for comparison is accuracy, which is sufficient for earning full points on this task. Optionally, you can also use a [confusion matrix](https://scikit-learn.org/stable/auto_examples/model_selection/plot_confusion_matrix.html) to further analyze and compare their performance in terms of [accuracy, precision, recall, and F1 score](https://www.labelf.ai/blog/what-is-accuracy-precision-recall-and-f1-score).\n",
        "Please note that while the main focus is on comparing the accuracy, the output you see in this cell will be a confusion matrix if you choose to include additional metrics. This is encouraged as it provides a more comprehensive view of model performance but is not mandatory for meeting the basic requirements of the task."
      ]
    },
    {
      "cell_type": "code",
      "execution_count": 19,
      "metadata": {
        "colab": {
          "base_uri": "https://localhost:8080/"
        },
        "id": "I9tP6dvYAFGn",
        "outputId": "a39b86ae-90c2-4020-cb60-1e8b669b647c",
        "trusted": true
      },
      "outputs": [
        {
          "name": "stdout",
          "output_type": "stream",
          "text": [
            "Confusion Matrix (Scratch)\n",
            "[[2049  435]\n",
            " [ 412 2104]]\n",
            "\n",
            "Classification Report (scratch):\n",
            "                         precision    recall  f1-score   support\n",
            "\n",
            "neutral or dissatisfied       0.83      0.82      0.83      2484\n",
            "              satisfied       0.83      0.84      0.83      2516\n",
            "\n",
            "               accuracy                           0.83      5000\n",
            "              macro avg       0.83      0.83      0.83      5000\n",
            "           weighted avg       0.83      0.83      0.83      5000\n",
            "\n",
            "------------------------------------------------------\n",
            "Confusion Matrix:\n",
            "[[2048  436]\n",
            " [ 410 2106]]\n",
            "\n",
            "Classification Report(Sklearn):\n",
            "                         precision    recall  f1-score   support\n",
            "\n",
            "neutral or dissatisfied       0.83      0.82      0.83      2484\n",
            "              satisfied       0.83      0.84      0.83      2516\n",
            "\n",
            "               accuracy                           0.83      5000\n",
            "              macro avg       0.83      0.83      0.83      5000\n",
            "           weighted avg       0.83      0.83      0.83      5000\n",
            "\n"
          ]
        }
      ],
      "source": [
        "y_pred_custom = naive.predict(X_test)\n",
        "class_names = ['neutral or dissatisfied', 'satisfied']\n",
        "y_test_names = [class_names[label] for label in Y_test]\n",
        "y_pred_custom_names = [class_names[label] for label in y_pred_custom]\n",
        "\n",
        "print(\"Confusion Matrix (Scratch)\")\n",
        "print(confusion_matrix(y_test_names, y_pred_custom_names))\n",
        "print(\"\\nClassification Report (scratch):\")\n",
        "print(classification_report(y_test_names, y_pred_custom_names))\n",
        "print(\"------------------------------------------------------\")\n",
        "y_pred_sklearn = gnb.predict(X_test)\n",
        "y_pred_sklearn_names = [class_names[label] for label in y_pred_sklearn]\n",
        "print(\"Confusion Matrix:\")\n",
        "print(confusion_matrix(y_test_names, y_pred_sklearn_names))\n",
        "print(\"\\nClassification Report(Sklearn):\")\n",
        "print(classification_report(y_test_names, y_pred_sklearn_names))"
      ]
    },
    {
      "cell_type": "markdown",
      "metadata": {
        "id": "j2TGf53hAFGn"
      },
      "source": [
        "# Decision tree Classifier (25 point)"
      ]
    },
    {
      "cell_type": "markdown",
      "metadata": {
        "id": "xB8t3P6aAFGn"
      },
      "source": [
        "## Task 1: Implement Decision Tree Classifier from Scratch (15 point)\n",
        "In this task, you are to implement a [Decision Tree Classifier](https://en.wikipedia.org/wiki/Decision_tree) entirely from scratch. The core framework of the classifier has been outlined for you, including several helper methods that you might find useful. These methods are intended to guide your implementation and provide a structured way to approach the problem.You are not strictly bound to the provided private methods (`_compute_entropy`, `_split_data`, etc.). If you find a more efficient or clearer way to implement these functionalities, you are encouraged to adjust the methods accordingly.\n",
        "\n",
        "[This video](https://www.youtube.com/watch?v=_L39rN6gz7Y) will be helpful too."
      ]
    },
    {
      "cell_type": "code",
      "execution_count": 27,
      "metadata": {
        "id": "b-tvKk8zAFGo",
        "trusted": true
      },
      "outputs": [],
      "source": [
        "import numpy as np\n",
        "\n",
        "class DecisionTreeClassifier:\n",
        "    def __init__(self, max_depth=None):\n",
        "        self.max_depth = max_depth\n",
        "        self.tree = None\n",
        "\n",
        "    def fit(self, X, y):\n",
        "        self.tree = self._build_tree(X, y, 0)\n",
        "\n",
        "    def predict(self, X):\n",
        "        predictions = [self._predict(inputs) for inputs in X]\n",
        "        return np.array(predictions)\n",
        "\n",
        "    def _compute_entropy(self, y):\n",
        "        hist = np.bincount(y) # get occurences of each value \n",
        "        ps = hist / len(y) # calculate the prob of each value\n",
        "        return -np.sum([p * np.log2(p) for p in ps if p > 0]) # get the sum of -p*log2(p)\n",
        "\n",
        "    def _split_data(self, X, y, feature_index, threshold):\n",
        "        # separate data to left and right based on bigger or less/equal than threshold\n",
        "        left = X[:, feature_index] <= threshold # indexes that are smaller than threshold\n",
        "        right = X[:, feature_index] > threshold # indexes that are bigger than threshold\n",
        "        return X[left], X[right], y[left], y[right] # split X and Y base on threshold and the feature index\n",
        "\n",
        "    def _find_best_split(self, X, y):\n",
        "        best_feature_index, best_threshold = None, None\n",
        "        best_entropy = float('inf')\n",
        "        \n",
        "        for feature_index in range(X.shape[1]):\n",
        "            thresholds = np.unique(X[:, feature_index])\n",
        "            for threshold in thresholds:\n",
        "                X_left, X_right, y_left, y_right = self._split_data(X, y, feature_index, threshold)\n",
        "                # if one side = 0 then separating is not good\n",
        "                if len(y_left) == 0 or len(y_right) == 0:\n",
        "                    continue\n",
        "                \n",
        "                p_left = len(y_left) / len(y)\n",
        "                p_right = len(y_right) / len(y)\n",
        "                # calculate entorpy H(Y|X)\n",
        "                entropy = p_left * self._compute_entropy(y_left) + p_right * self._compute_entropy(y_right)\n",
        "                \n",
        "                # we want to maximize IG and H(Y) is constant according to X so :\n",
        "                # IG = H(Y) - H(Y|X) and we should minimize H(Y|X)\n",
        "                if entropy < best_entropy:\n",
        "                    best_entropy = entropy\n",
        "                    best_feature_index = feature_index\n",
        "                    best_threshold = threshold\n",
        "        \n",
        "        return best_feature_index, best_threshold\n",
        "\n",
        "    def _build_tree(self, X, y, depth):\n",
        "        num_samples = X.shape[0]\n",
        "        num_labels = len(np.unique(y))\n",
        "\n",
        "        node = {}\n",
        "        # if  number of labels is one no need to make the tree\n",
        "        # or if the current depth > max_depth we sholud return \n",
        "        if num_labels == 1 or num_samples == 0 or depth >= self.max_depth:\n",
        "            leaf_value = np.bincount(y).argmax()\n",
        "            node['type'] = 'leaf'\n",
        "            node['class'] = leaf_value\n",
        "            return node\n",
        "        feature_index, threshold = self._find_best_split(X, y)\n",
        "        \n",
        "        # if no split found then we are in a leaf\n",
        "        if feature_index is None:\n",
        "            leaf_value = np.bincount(y).argmax()\n",
        "            node['type'] = 'leaf'\n",
        "            node['class'] = leaf_value\n",
        "            return node\n",
        "        \n",
        "        X_left, X_right, y_left, y_right = self._split_data(X, y, feature_index, threshold)\n",
        "        # if in split of data one side size become zero we are in a leaf\n",
        "        if len(y_left) == 0 or len(y_right) == 0:\n",
        "            leaf_value = np.bincount(y).argmax()\n",
        "            node['type'] = 'leaf'\n",
        "            node['class'] = leaf_value\n",
        "            return node\n",
        "        \n",
        "        # now we can build left and right side of the current node recursively\n",
        "        left_node = self._build_tree(X_left, y_left, depth + 1)\n",
        "        right_node = self._build_tree(X_right, y_right, depth + 1)\n",
        "        node['type'] = 'node'\n",
        "        node['feature_index'] = feature_index\n",
        "        node['threshold'] = threshold\n",
        "        node['left_node'] = left_node\n",
        "        node['right_node'] = right_node\n",
        "        return node\n",
        "\n",
        "    def _predict(self, inputs):\n",
        "        node = self.tree\n",
        "        while node[\"type\"] != \"leaf\":\n",
        "            if inputs[node[\"feature_index\"]] <= node[\"threshold\"]:\n",
        "                node = node[\"left_node\"]\n",
        "            else:\n",
        "                node = node[\"right_node\"]\n",
        "        return node[\"class\"]\n"
      ]
    },
    {
      "cell_type": "markdown",
      "metadata": {
        "id": "-XnCxGvPAFGo"
      },
      "source": [
        "## Task 2: Train Decision Tree Model from Scratch (2 point)\n",
        "Instantiate the DecisionTree class and fit it to the training data."
      ]
    },
    {
      "cell_type": "code",
      "execution_count": 28,
      "metadata": {
        "id": "-iaxa-YTAFGp",
        "trusted": true
      },
      "outputs": [],
      "source": [
        "# Create and train a Decision Tree model with a maximum depth of 5\n",
        "# TODO: Instantiate the DecisionTreeClassifier with max_depth=5 and fit it to the training data.\n",
        "tree = DecisionTreeClassifier(5)\n",
        "tree.fit(X_train, Y_train)"
      ]
    },
    {
      "cell_type": "markdown",
      "metadata": {
        "id": "n9KybqZBAFGp"
      },
      "source": [
        "## Task 3: Train Decision Tree Model Using scikit-learn (5 point)\n",
        "Utilize the [Decision Tree class from scikit-learn](https://scikit-learn.org/stable/modules/tree.html) to train a Decision Tree model on the same dataset."
      ]
    },
    {
      "cell_type": "code",
      "execution_count": 29,
      "metadata": {
        "colab": {
          "base_uri": "https://localhost:8080/",
          "height": 74
        },
        "id": "_nd9orWpAFGq",
        "outputId": "f4ac55b6-2c3c-47e2-b326-7b8b935ebe18",
        "trusted": true
      },
      "outputs": [
        {
          "data": {
            "text/html": [
              "<style>#sk-container-id-3 {color: black;}#sk-container-id-3 pre{padding: 0;}#sk-container-id-3 div.sk-toggleable {background-color: white;}#sk-container-id-3 label.sk-toggleable__label {cursor: pointer;display: block;width: 100%;margin-bottom: 0;padding: 0.3em;box-sizing: border-box;text-align: center;}#sk-container-id-3 label.sk-toggleable__label-arrow:before {content: \"▸\";float: left;margin-right: 0.25em;color: #696969;}#sk-container-id-3 label.sk-toggleable__label-arrow:hover:before {color: black;}#sk-container-id-3 div.sk-estimator:hover label.sk-toggleable__label-arrow:before {color: black;}#sk-container-id-3 div.sk-toggleable__content {max-height: 0;max-width: 0;overflow: hidden;text-align: left;background-color: #f0f8ff;}#sk-container-id-3 div.sk-toggleable__content pre {margin: 0.2em;color: black;border-radius: 0.25em;background-color: #f0f8ff;}#sk-container-id-3 input.sk-toggleable__control:checked~div.sk-toggleable__content {max-height: 200px;max-width: 100%;overflow: auto;}#sk-container-id-3 input.sk-toggleable__control:checked~label.sk-toggleable__label-arrow:before {content: \"▾\";}#sk-container-id-3 div.sk-estimator input.sk-toggleable__control:checked~label.sk-toggleable__label {background-color: #d4ebff;}#sk-container-id-3 div.sk-label input.sk-toggleable__control:checked~label.sk-toggleable__label {background-color: #d4ebff;}#sk-container-id-3 input.sk-hidden--visually {border: 0;clip: rect(1px 1px 1px 1px);clip: rect(1px, 1px, 1px, 1px);height: 1px;margin: -1px;overflow: hidden;padding: 0;position: absolute;width: 1px;}#sk-container-id-3 div.sk-estimator {font-family: monospace;background-color: #f0f8ff;border: 1px dotted black;border-radius: 0.25em;box-sizing: border-box;margin-bottom: 0.5em;}#sk-container-id-3 div.sk-estimator:hover {background-color: #d4ebff;}#sk-container-id-3 div.sk-parallel-item::after {content: \"\";width: 100%;border-bottom: 1px solid gray;flex-grow: 1;}#sk-container-id-3 div.sk-label:hover label.sk-toggleable__label {background-color: #d4ebff;}#sk-container-id-3 div.sk-serial::before {content: \"\";position: absolute;border-left: 1px solid gray;box-sizing: border-box;top: 0;bottom: 0;left: 50%;z-index: 0;}#sk-container-id-3 div.sk-serial {display: flex;flex-direction: column;align-items: center;background-color: white;padding-right: 0.2em;padding-left: 0.2em;position: relative;}#sk-container-id-3 div.sk-item {position: relative;z-index: 1;}#sk-container-id-3 div.sk-parallel {display: flex;align-items: stretch;justify-content: center;background-color: white;position: relative;}#sk-container-id-3 div.sk-item::before, #sk-container-id-3 div.sk-parallel-item::before {content: \"\";position: absolute;border-left: 1px solid gray;box-sizing: border-box;top: 0;bottom: 0;left: 50%;z-index: -1;}#sk-container-id-3 div.sk-parallel-item {display: flex;flex-direction: column;z-index: 1;position: relative;background-color: white;}#sk-container-id-3 div.sk-parallel-item:first-child::after {align-self: flex-end;width: 50%;}#sk-container-id-3 div.sk-parallel-item:last-child::after {align-self: flex-start;width: 50%;}#sk-container-id-3 div.sk-parallel-item:only-child::after {width: 0;}#sk-container-id-3 div.sk-dashed-wrapped {border: 1px dashed gray;margin: 0 0.4em 0.5em 0.4em;box-sizing: border-box;padding-bottom: 0.4em;background-color: white;}#sk-container-id-3 div.sk-label label {font-family: monospace;font-weight: bold;display: inline-block;line-height: 1.2em;}#sk-container-id-3 div.sk-label-container {text-align: center;}#sk-container-id-3 div.sk-container {/* jupyter's `normalize.less` sets `[hidden] { display: none; }` but bootstrap.min.css set `[hidden] { display: none !important; }` so we also need the `!important` here to be able to override the default hidden behavior on the sphinx rendered scikit-learn.org. See: https://github.com/scikit-learn/scikit-learn/issues/21755 */display: inline-block !important;position: relative;}#sk-container-id-3 div.sk-text-repr-fallback {display: none;}</style><div id=\"sk-container-id-3\" class=\"sk-top-container\"><div class=\"sk-text-repr-fallback\"><pre>DecisionTreeClassifier(random_state=42)</pre><b>In a Jupyter environment, please rerun this cell to show the HTML representation or trust the notebook. <br />On GitHub, the HTML representation is unable to render, please try loading this page with nbviewer.org.</b></div><div class=\"sk-container\" hidden><div class=\"sk-item\"><div class=\"sk-estimator sk-toggleable\"><input class=\"sk-toggleable__control sk-hidden--visually\" id=\"sk-estimator-id-3\" type=\"checkbox\" checked><label for=\"sk-estimator-id-3\" class=\"sk-toggleable__label sk-toggleable__label-arrow\">DecisionTreeClassifier</label><div class=\"sk-toggleable__content\"><pre>DecisionTreeClassifier(random_state=42)</pre></div></div></div></div></div>"
            ],
            "text/plain": [
              "DecisionTreeClassifier(random_state=42)"
            ]
          },
          "execution_count": 29,
          "metadata": {},
          "output_type": "execute_result"
        }
      ],
      "source": [
        "# Initialize and train a Decision Tree Classifier using scikit-learn\n",
        "# TODO: Use scikit-learn's DecisionTreeClassifier to create a model with a specified random state and fit it to the training data.\n",
        "from sklearn.tree import DecisionTreeClassifier as dtc\n",
        "ready_tree = dtc(random_state=42)\n",
        "ready_tree.fit(X_train, Y_train)"
      ]
    },
    {
      "cell_type": "markdown",
      "metadata": {
        "id": "HW2Qek2lAFGr"
      },
      "source": [
        "## Task 4: Evaluate and Compare Both Models (3 points)\n",
        "\n",
        "Evaluate both the custom-built Decision Tree model and the scikit-learn model. The primary metric for comparison is accuracy, which is sufficient for earning full points on this task. Optionally, you can also use a confusion matrix to further analyze and compare their performance in terms of accuracy, precision, recall, and F1 score.\n",
        "Please note that while the main focus is on comparing the accuracy, the output you see in this cell will be a confusion matrix if you choose to include additional metrics. This is encouraged as it provides a more comprehensive view of model performance but is not mandatory for meeting the basic requirements of the task.\n"
      ]
    },
    {
      "cell_type": "code",
      "execution_count": 30,
      "metadata": {
        "colab": {
          "base_uri": "https://localhost:8080/"
        },
        "id": "keaZOybpAFGr",
        "outputId": "88860721-e70b-4722-c681-b69a2509004f",
        "trusted": true
      },
      "outputs": [
        {
          "name": "stdout",
          "output_type": "stream",
          "text": [
            "Confusion Matrix (Scratch)\n",
            "[[2290  194]\n",
            " [ 283 2233]]\n",
            "\n",
            "Classification Report (scratch):\n",
            "                         precision    recall  f1-score   support\n",
            "\n",
            "neutral or dissatisfied       0.89      0.92      0.91      2484\n",
            "              satisfied       0.92      0.89      0.90      2516\n",
            "\n",
            "               accuracy                           0.90      5000\n",
            "              macro avg       0.91      0.90      0.90      5000\n",
            "           weighted avg       0.91      0.90      0.90      5000\n",
            "\n",
            "------------------------------------------------------\n",
            "Confusion Matrix:\n",
            "[[2262  222]\n",
            " [ 197 2319]]\n",
            "\n",
            "Classification Report(Sklearn):\n",
            "                         precision    recall  f1-score   support\n",
            "\n",
            "neutral or dissatisfied       0.92      0.91      0.92      2484\n",
            "              satisfied       0.91      0.92      0.92      2516\n",
            "\n",
            "               accuracy                           0.92      5000\n",
            "              macro avg       0.92      0.92      0.92      5000\n",
            "           weighted avg       0.92      0.92      0.92      5000\n",
            "\n"
          ]
        }
      ],
      "source": [
        "from sklearn.metrics import accuracy_score, classification_report, confusion_matrix\n",
        "\n",
        "y_pred_custom = tree.predict(X_test)\n",
        "class_names = ['neutral or dissatisfied', 'satisfied']\n",
        "y_test_names = [class_names[label] for label in Y_test]\n",
        "y_pred_custom_names = [class_names[label] for label in y_pred_custom]\n",
        "\n",
        "\n",
        "print(\"Confusion Matrix (Scratch)\")\n",
        "print(confusion_matrix(y_test_names, y_pred_custom_names))\n",
        "print(\"\\nClassification Report (scratch):\")\n",
        "print(classification_report(y_test_names, y_pred_custom_names))\n",
        "print(\"------------------------------------------------------\")\n",
        "\n",
        "y_pred_sklearn = ready_tree.predict(X_test)\n",
        "y_pred_sklearn_names = [class_names[label] for label in y_pred_sklearn]\n",
        "print(\"Confusion Matrix:\")\n",
        "print(confusion_matrix(y_test_names, y_pred_sklearn_names))\n",
        "print(\"\\nClassification Report(Sklearn):\")\n",
        "print(classification_report(y_test_names, y_pred_sklearn_names))"
      ]
    }
  ],
  "metadata": {
    "colab": {
      "provenance": []
    },
    "kaggle": {
      "accelerator": "none",
      "dataSources": [],
      "dockerImageVersionId": 30673,
      "isGpuEnabled": false,
      "isInternetEnabled": true,
      "language": "python",
      "sourceType": "notebook"
    },
    "kernelspec": {
      "display_name": "Python 3",
      "language": "python",
      "name": "python3"
    },
    "language_info": {
      "codemirror_mode": {
        "name": "ipython",
        "version": 3
      },
      "file_extension": ".py",
      "mimetype": "text/x-python",
      "name": "python",
      "nbconvert_exporter": "python",
      "pygments_lexer": "ipython3",
      "version": "3.11.5"
    }
  },
  "nbformat": 4,
  "nbformat_minor": 0
}
