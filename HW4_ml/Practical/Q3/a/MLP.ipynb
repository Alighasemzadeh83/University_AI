{
 "cells": [
  {
   "cell_type": "markdown",
   "metadata": {},
   "source": [
    "\n",
    "<br>\n",
    "<font>\n",
    "<div dir=ltr align=center>\n",
    "<img src=\"https://cdn.freebiesupply.com/logos/large/2x/sharif-logo-png-transparent.png\" width=150 height=150> <br>\n",
    "<font color=0F5298 size=7>\n",
    "Artificial Intelligence <br>\n",
    "<font color=2565AE size=5>\n",
    "Computer Engineering Department <br>\n",
    "Spring 2024<br>\n",
    "<font color=3C99D size=5>\n",
    "Practical Assignment 4 - Multilayer Perceptron <br>\n",
    "<font color=696880 size=4>\n",
    "Sina Namazi\n",
    "\n",
    "\n",
    "____"
   ]
  },
  {
   "cell_type": "markdown",
   "metadata": {},
   "source": [
    "## Personal Data\n",
    "\n",
    "Please fill in your details below to help us keep track of your submission."
   ]
  },
  {
   "cell_type": "code",
   "execution_count": 1,
   "metadata": {},
   "outputs": [],
   "source": [
    "student_number = \"401106339\"\n",
    "Name = \"Ali\"\n",
    "Last_Name = \"Ghasemzadeh\" "
   ]
  },
  {
   "cell_type": "markdown",
   "metadata": {},
   "source": [
    "## Libraries"
   ]
  },
  {
   "cell_type": "code",
   "execution_count": 2,
   "metadata": {},
   "outputs": [
    {
     "name": "stdout",
     "output_type": "stream",
     "text": [
      "Requirement already satisfied: torch in e:\\anaconda\\lib\\site-packages (2.2.2)\n",
      "Requirement already satisfied: filelock in e:\\anaconda\\lib\\site-packages (from torch) (3.9.0)\n",
      "Collecting typing-extensions>=4.8.0 (from torch)\n",
      "  Obtaining dependency information for typing-extensions>=4.8.0 from https://files.pythonhosted.org/packages/b6/53/84a859aaddfe7378a6e5820e864a2d75763e82b6fcbda1a00e92ec620bb7/typing_extensions-4.12.1-py3-none-any.whl.metadata\n",
      "  Using cached typing_extensions-4.12.1-py3-none-any.whl.metadata (3.0 kB)\n",
      "Requirement already satisfied: sympy in e:\\anaconda\\lib\\site-packages (from torch) (1.11.1)\n",
      "Requirement already satisfied: networkx in e:\\anaconda\\lib\\site-packages (from torch) (3.1)\n",
      "Requirement already satisfied: jinja2 in e:\\anaconda\\lib\\site-packages (from torch) (3.1.2)\n",
      "Requirement already satisfied: fsspec in e:\\anaconda\\lib\\site-packages (from torch) (2023.4.0)\n",
      "Requirement already satisfied: MarkupSafe>=2.0 in e:\\anaconda\\lib\\site-packages (from jinja2->torch) (2.1.1)\n",
      "Requirement already satisfied: mpmath>=0.19 in e:\\anaconda\\lib\\site-packages (from sympy->torch) (1.3.0)\n",
      "Using cached typing_extensions-4.12.1-py3-none-any.whl (37 kB)\n",
      "Installing collected packages: typing-extensions\n",
      "  Attempting uninstall: typing-extensions\n",
      "    Found existing installation: typing_extensions 4.7.1\n",
      "    Uninstalling typing_extensions-4.7.1:\n",
      "      Successfully uninstalled typing_extensions-4.7.1\n",
      "Successfully installed typing-extensions-4.12.1\n",
      "Requirement already satisfied: torch in e:\\anaconda\\lib\\site-packages (2.2.2)\n",
      "Requirement already satisfied: torchvision in e:\\anaconda\\lib\\site-packages (0.17.2)\n",
      "Requirement already satisfied: torchaudio in e:\\anaconda\\lib\\site-packages (2.2.2)\n",
      "Requirement already satisfied: filelock in e:\\anaconda\\lib\\site-packages (from torch) (3.9.0)\n",
      "Requirement already satisfied: typing-extensions>=4.8.0 in e:\\anaconda\\lib\\site-packages (from torch) (4.12.1)\n",
      "Requirement already satisfied: sympy in e:\\anaconda\\lib\\site-packages (from torch) (1.11.1)\n",
      "Requirement already satisfied: networkx in e:\\anaconda\\lib\\site-packages (from torch) (3.1)\n",
      "Requirement already satisfied: jinja2 in e:\\anaconda\\lib\\site-packages (from torch) (3.1.2)\n",
      "Requirement already satisfied: fsspec in e:\\anaconda\\lib\\site-packages (from torch) (2023.4.0)\n",
      "Requirement already satisfied: numpy in e:\\anaconda\\lib\\site-packages (from torchvision) (1.24.3)\n",
      "Requirement already satisfied: pillow!=8.3.*,>=5.3.0 in e:\\anaconda\\lib\\site-packages (from torchvision) (10.2.0)\n",
      "Requirement already satisfied: MarkupSafe>=2.0 in e:\\anaconda\\lib\\site-packages (from jinja2->torch) (2.1.1)\n",
      "Requirement already satisfied: mpmath>=0.19 in e:\\anaconda\\lib\\site-packages (from sympy->torch) (1.3.0)\n"
     ]
    }
   ],
   "source": [
    "!pip install torch\n",
    "!pip install torch torchvision torchaudio"
   ]
  },
  {
   "cell_type": "code",
   "execution_count": 2,
   "metadata": {},
   "outputs": [],
   "source": [
    "from tqdm import tqdm\n",
    "import numpy as np\n",
    "import matplotlib.pyplot as plt\n",
    "import torch\n",
    "import torchvision\n",
    "import torchvision.transforms as transforms"
   ]
  },
  {
   "cell_type": "markdown",
   "metadata": {},
   "source": [
    "## Introduction:\n",
    "\n",
    "In this Notebook, we introduce the fundamental concepts of neural networks, focusing specifically on the architecture and functionality of Multilayer Perceptrons (MLPs). MLPs are a class of feedforward artificial neural networks that consist of multiple layers of nodes, each layer fully connected to the next. These networks are widely used for a variety of machine learning tasks, including classification and regression. The core idea behind MLPs is to learn complex functions by adjusting the weights and biases of the network through a process known as training, typically involving backpropagation and an optimization algorithm like gradient descent.\n",
    "\n",
    "\n",
    "To provide a practical context to these concepts, we will be working with the MNIST dataset, a large collection of handwritten digits commonly used for training and testing in the field of machine learning. The dataset consists of 60,000 training images and 10,000 test images, each being a 28x28 pixel grayscale image of digits ranging from 0 to 9. The simplicity and size of the MNIST dataset make it an excellent choice for exploring and understanding the mechanics of neural networks, particularly in recognizing patterns and classifying images. Throughout this notebook, we will apply MLPs to this dataset, exploring every step of the process from data preparation and exploration to model training and evaluation."
   ]
  },
  {
   "cell_type": "markdown",
   "metadata": {},
   "source": [
    "## Getting the Data\n",
    "\n",
    "\n",
    "The following Python cell performs two primary actions: it loads the MNIST dataset and then splits it into two distinct sets - one for training and one for testing. \n",
    "\n",
    "- `X_train, Y_train`: These variables represent the training set. `X_train` contains the images of handwritten digits, and `Y_train` contains the corresponding labels that indicate the actual digit each image represents (0 through 9).\n",
    "- `X_test, Y_test`: Similarly, these variables represent the test set. `X_test` includes the images reserved for testing the model's performance, while `Y_test` contains the labels for these images.\n",
    "\n",
    "By executing the next cell, you will download the dataset and prepare these variables.\n",
    "\n",
    "**There is no need to change the following cell.**\n"
   ]
  },
  {
   "cell_type": "code",
   "execution_count": 3,
   "metadata": {},
   "outputs": [],
   "source": [
    "# Load the MNIST dataset\n",
    "transform = transforms.Compose([\n",
    "    transforms.ToTensor()\n",
    "])\n",
    "\n",
    "trainset = torchvision.datasets.MNIST(root='./data', train=True, download=True)\n",
    "testset = torchvision.datasets.MNIST(root='./data', train=False, download=True)\n",
    "\n",
    "X_train_torch = trainset.data\n",
    "Y_train_torch = trainset.targets\n",
    "\n",
    "X_test_torch = testset.data\n",
    "Y_test_torch = testset.targets\n",
    "\n",
    "\n",
    "\n",
    "# Training Images:\n",
    "X_train = X_train_torch.numpy()\n",
    "# Training Labels:\n",
    "Y_train = Y_train_torch.numpy()\n",
    "\n",
    "# Test Images:\n",
    "X_test = X_test_torch.numpy()\n",
    "# Test Labels:\n",
    "Y_test = Y_test_torch.numpy()"
   ]
  },
  {
   "cell_type": "markdown",
   "metadata": {},
   "source": [
    "## Exploratory Data Analysis: (5 Points)\n",
    "\n",
    "Before diving into model building, it's crucial to perform an exploratory data analysis (EDA) to understand the characteristics and structure of the dataset at hand. EDA involves visualizing the data, identifying patterns, understanding the distribution of variables, and spotting any anomalies or outliers. This step not only helps in making informed decisions about data preprocessing and model design but also provides insights that could be useful for feature engineering.\n",
    "\n",
    "Here are two examples of EDA for the MNIST dataset, which consists of handwritten digits:\n",
    "\n",
    "1. **Visualizing Sample Images**:\n",
    "   - Display a few sample images from the dataset to get a sense of what the handwritten digits look like. This can help in understanding the variety of handwriting styles and the clarity of images.\n",
    "\n",
    "</br>\n",
    "\n",
    "2. **Checking the Distribution of Classes**:\n",
    "   - Plot the frequency of each digit (0-9) in the dataset to check if the dataset is balanced. This is crucial as an imbalanced dataset may need special treatment during training, such as class weighting or resampling techniques."
   ]
  },
  {
   "cell_type": "code",
   "execution_count": 5,
   "metadata": {},
   "outputs": [
    {
     "data": {
      "image/png": "[encoded data removed]",
      "text/plain": [
       "<Figure size 1500x300 with 10 Axes>"
      ]
     },
     "metadata": {},
     "output_type": "display_data"
    },
    {
     "data": {
      "image/png": "[encoded data removed]",
      "text/plain": [
       "<Figure size 640x480 with 1 Axes>"
      ]
     },
     "metadata": {},
     "output_type": "display_data"
    }
   ],
   "source": [
    "# Exploratory data analysis\n",
    "\n",
    "def show_samples(images, labels, num_samples=5):\n",
    "    fig, axes = plt.subplots(1, num_samples, figsize=(15, 3))\n",
    "    for i in range(num_samples):\n",
    "        axes[i].imshow(images[i], cmap='gray')\n",
    "        axes[i].set_title(f\"Label: {labels[i]}\")\n",
    "        axes[i].axis('off')\n",
    "    plt.show()\n",
    "\n",
    "def number_distributions(labels):\n",
    "    class_counts = np.bincount(labels)\n",
    "    classes = np.arange(10)\n",
    "    plt.bar(classes, class_counts, tick_label=classes)\n",
    "    plt.title('Class Distribution')\n",
    "    plt.xlabel('Class')\n",
    "    plt.ylabel('Frequency')\n",
    "    plt.show()\n",
    "\n",
    "# Plot the frequency of each digit in the training set\n",
    "show_samples(X_train, Y_train, 10)\n",
    "number_distributions(Y_train)"
   ]
  },
  {
   "cell_type": "markdown",
   "metadata": {},
   "source": [
    "## Data Split: (5 Points)\n",
    "\n",
    "To evaluate the performance of our MLP model effectively, we divide the dataset into three distinct sets: training, validation, and test sets. The training set is used to train the model, where the model learns to make predictions by adjusting its parameters. The validation set is used to fine-tune the hyperparameters and make informed decisions about the model architecture without overfitting to the training data. Finally, the test set is utilized to assess the model's performance on unseen data, providing an unbiased evaluation of its ability to generalize.\n",
    "\n",
    "In the next cell, you should take the initial training set `(X_train, Y_train)` and further split it into validation `(X_val, Y_val)` and revised training sets `(X_train, Y_train)` using a 1:5 ratio. This process ensures that we have a separate dataset to validate the model's performance during the training phase, helping us to avoid overfitting and ensuring that our model generalizes well to new, unseen data."
   ]
  },
  {
   "cell_type": "code",
   "execution_count": 6,
   "metadata": {},
   "outputs": [],
   "source": [
    "# Train, Validation, Test split\n",
    "from sklearn.model_selection import train_test_split\n",
    "X_train, X_val, Y_train, Y_val = train_test_split(X_train, Y_train, test_size=1/6, random_state=42)"
   ]
  },
  {
   "cell_type": "markdown",
   "metadata": {},
   "source": [
    "## Preparation of the Data:\n",
    "\n",
    "Data preparation is a critical step in the machine learning pipeline. This process includes cleaning the data, handling missing values, normalizing or standardizing the data, and reshaping it into a format suitable for the neural network. Proper data preparation ensures that the model learns effectively and achieves high performance.\n",
    "\n",
    "In the next cell, we will focus on preparing the MNIST dataset for our MLP model. Given that the MNIST images are grayscale with pixel values ranging from 0 to 255, we will start by normalizing these values to a range of 0 to 1. This normalization helps in speeding up the convergence of the neural network by providing a consistent scale of input values. Additionally, we will reshape the images from their original 2D shape (28x28 pixels) into a flat 1D vector of 784 elements. This step is necessary because our MLP model expects input vectors of a fixed size.\n",
    "\n",
    "**There is no need to change the following cell.**\n"
   ]
  },
  {
   "cell_type": "code",
   "execution_count": 7,
   "metadata": {},
   "outputs": [],
   "source": [
    "# Normalize the images\n",
    "X_train = X_train / 255\n",
    "X_val = X_val / 255\n",
    "X_test = X_test / 255\n",
    "\n",
    "# Flatten the images\n",
    "X_train = X_train.reshape(X_train.shape[0], -1)\n",
    "X_val = X_val.reshape(X_val.shape[0], -1)\n",
    "X_test = X_test.reshape(X_test.shape[0], -1)"
   ]
  },
  {
   "cell_type": "markdown",
   "metadata": {},
   "source": [
    "## Preparation of Model Parameters:\n",
    "\n",
    "Initializing the parameters of an MLP, including weights and biases, is an important step that can significantly affect the model's learning process. Proper initialization can help in preventing issues related to vanishing or exploding gradients, thereby ensuring a stable and efficient training process.\n",
    "\n",
    "In the next cell, we define the architecture of our neural network and initialize its weights and biases. Our network consists of an input layer, three hidden layers, and an output layer, structured as follows:\n",
    "\n",
    "- `n_inp`: Represents the number of neurons in the input layer, determined by the number of features in `X_train`.\n",
    "- `n_hid1`, `n_hid2`, `n_hid3`: Denote the number of neurons in the first, second, and third hidden layers, respectively, set to 256, 128, and 64 for a progressively narrowing architecture.\n",
    "- `n_out`: The number of neurons in the output layer, set to 10, corresponding to the number of possible classifications (for example, digits 0-9 in the MNIST dataset).\n",
    "\n",
    "For each layer, we initialize the weights and biases as follows:\n",
    "- `W1`, `W2`, `W3`, `W4`: Weight matrices for the first, second, third, and output layers, initialized with small random values drawn from a normal distribution, scaled by 0.01 to keep the values small.\n",
    "- `B1`, `B2`, `B3`, `B4`: Bias vectors for each layer, also initialized with small random values, similarly scaled.\n",
    "\n",
    "A random seed (`manual_seed(42)`) is set for reproducibility, ensuring that the random numbers generated are the same each time the code is run. This aids in debugging and comparing model performances across different runs.\n",
    "\n",
    "**There is no need to change the following cell.**"
   ]
  },
  {
   "cell_type": "code",
   "execution_count": 8,
   "metadata": {},
   "outputs": [],
   "source": [
    "# Defining the Sizes of the Layers\n",
    "n_inp = X_train.shape[1]\n",
    "n_hid1 = 256\n",
    "n_hid2 = 128\n",
    "n_hid3 = 64\n",
    "n_out = 10\n",
    "\n",
    "# Seed for Reproducibility\n",
    "g = torch.Generator().manual_seed(42)\n",
    "\n",
    "# Weights and Biases of the First Layer:\n",
    "W1 = torch.randn(n_inp, n_hid1, generator=g, requires_grad=True) * 0.01\n",
    "B1 = torch.randn(1, n_hid1, generator=g, requires_grad=True) * 0.01\n",
    "\n",
    "# Weights and Biases of the Second Layer:\n",
    "W2 = torch.randn(n_hid1, n_hid2, generator=g, requires_grad=True) * 0.01\n",
    "B2 = torch.randn(1, n_hid2, generator=g, requires_grad=True) * 0.01\n",
    "\n",
    "# Weights and Biases of the Third Layer:\n",
    "W3 = torch.randn(n_hid2, n_hid3, generator=g, requires_grad=True) * 0.01\n",
    "B3 = torch.randn(1, n_hid3, generator=g, requires_grad=True) * 0.01\n",
    "\n",
    "# Weights and Biases of the Fourth Layer:\n",
    "W4 = torch.randn(n_hid3, n_out, generator=g, requires_grad=True) * 0.01\n",
    "B4 = torch.randn(1, n_out, generator=g, requires_grad=True) * 0.01"
   ]
  },
  {
   "cell_type": "markdown",
   "metadata": {},
   "source": [
    "## Forward Pass:\n",
    "\n",
    "The forward pass refers to the computation process where the input data is passed through the network layer by layer to produce the output. At each layer, the input is transformed using a linear transformation (weighted sum followed by the addition of a bias term) and then typically passed through a non-linear activation function. The output of the final layer is considered the prediction of the network. This step is crucial for both training and evaluation of the model.\n",
    "\n",
    "In the next cell, we will illustrate the forward pass using our MLP model designed for the MNIST dataset. We will walk through the process step by step, starting with the input layer, moving through the hidden layers, and finally to the output layer. For each layer, we will apply the linear transformation, followed by an activation function for hidden layers. The final layer will use the softmax function to produce a probability distribution over the 10 possible digit classes.\n",
    "\n",
    "\n",
    "Here's a step-by-step breakdown:\n",
    "\n",
    "- `batch_size = 32`: This specifies the number of training examples to process simultaneously, which affects the efficiency of training and the generalization capability of the model.\n",
    "\n",
    "**Layer 1:**\n",
    "- `PreActivation1`: Result of the linear transformation applied to the input, computed as `sample_inp @ W1 + B1`, resulting in dimensions `[batch_size, n_hid1]`.\n",
    "- `Hidden1`: Output after applying the sigmoid activation function to `PreActivation1`, maintaining dimensions `[batch_size, n_hid1]`.\n",
    "\n",
    "**Layer 2:**\n",
    "- `PreActivation2`: Linear transformation for the second layer, using `Hidden1` as input, resulting in dimensions `[batch_size, n_hid2]`.\n",
    "- `Hidden2`: Output after applying the ReLU activation function to `PreActivation2`, with dimensions `[batch_size, n_hid2]`.\n",
    "\n",
    "**Layer 3:**\n",
    "- `PreActivation3`: Linear transformation for the third layer, with dimensions `[batch_size, n_hid3]`.\n",
    "- `Hidden3`: Output after applying the tanh activation function to `PreActivation3`, maintaining dimensions `[batch_size, n_hid3]`.\n",
    "\n",
    "**Layer 4 (Output Layer):**\n",
    "- `Logits`: Result of the final linear transformation applied to `Hidden3`, with dimensions `[batch_size, n_out]`, where `n_out` is the number of output classes.\n",
    "- `Probs`: Probabilities for each class, obtained by applying the softmax function to `Logits`, with dimensions `[batch_size, n_out]`. The softmax ensures these probabilities sum to 1 for each sample.\n",
    "\n",
    "**Loss Computation:**\n",
    "- `LogProbs`: Logarithm of `Probs`, necessary for computing cross-entropy loss, maintaining dimensions `[batch_size, n_out]`.\n",
    "- `Loss`: The cross-entropy loss for the batch, calculated by taking the negative log likelihood of the correct class probabilities (indexed by `sample_out`) and averaging, resulting in a single scalar value. This metric quantifies the model's prediction accuracy, guiding parameter adjustments during training.\n",
    "\n",
    "**There is no need to change the following cell.**\n",
    "\n"
   ]
  },
  {
   "cell_type": "code",
   "execution_count": 9,
   "metadata": {},
   "outputs": [],
   "source": [
    "batch_size = 32\n",
    "sample_inp = torch.Tensor(X_train[:batch_size])\n",
    "sample_out = torch.Tensor(Y_train[:batch_size]).int()\n",
    "\n",
    "# Forward pass\n",
    "\n",
    "# Layer 1\n",
    "# Applying Linear transformation\n",
    "PreActivation1 = sample_inp @ W1 + B1\n",
    "# Applying Sigmoid activation function\n",
    "Hidden1 = torch.sigmoid(PreActivation1)\n",
    "\n",
    "# Layer 2\n",
    "# Applying Linear transformation\n",
    "PreActivation2 = Hidden1 @ W2 + B2\n",
    "# Applying ReLU activation function\n",
    "Hidden2 = torch.relu(PreActivation2)\n",
    "\n",
    "# Layer 3\n",
    "# Applying Linear transformation\n",
    "PreActivation3 = Hidden2 @ W3 + B3\n",
    "# Applying Tanh activation function\n",
    "Hidden3 = torch.tanh(PreActivation3)\n",
    "\n",
    "\n",
    "# Layer 4\n",
    "# Applying Linear transformation\n",
    "Logits = Hidden3 @ W4 + B4\n",
    "# Applying Softmax activation function\n",
    "Exp4 = torch.exp(Logits)\n",
    "Sum4 = torch.sum(Exp4, dim=1).view(-1, 1)\n",
    "SumInverse4 = 1 / Sum4\n",
    "Probs = Exp4 * SumInverse4\n",
    "\n",
    "# Loss computation (Cross-entropy loss)\n",
    "LogProbs = Probs.log()\n",
    "Loss = -LogProbs[range(batch_size), sample_out].mean()"
   ]
  },
  {
   "cell_type": "markdown",
   "metadata": {},
   "source": [
    "## Backward Pass and Gradient Computation:\n",
    "\n",
    "Following the forward pass, the next critical phase in training a neural network is the backward pass, which involves computing the gradients of the loss function with respect to each parameter in the model. This process, often facilitated by automatic differentiation libraries like PyTorch's `autograd`, allows us to understand how each parameter needs to be adjusted to minimize the loss.\n",
    "\n",
    "In the next cell, we will compute the gradients of our model using `autograd` and save all the values as numpy arrays.\n",
    "\n",
    "\n",
    "\n",
    "\n",
    "Here's a breakdown of the variables in the code:\n",
    "\n",
    "- **`parameters`:** A list containing all the trainable parameters of the network, including the weights (`W1`, `W2`, `W3`, `W4`) and biases (`B1`, `B2`, `B3`, `B4`) of each layer.\n",
    "\n",
    "- **`middle_values`:** A list of intermediate values computed during the forward pass. These include pre-activation values (`PreActivation1`, `PreActivation2`, `PreActivation3`), hidden layer outputs (`Hidden1`, `Hidden2`, `Hidden3`), and other intermediate computations (`Logits`, `Exp4`, `Sum4`, `SumInverse4`, `Probs`, `LogProbs`) crucial for the loss calculation.\n",
    "\n",
    "- **Weights (`W1`, `W2`, `W3`, `W4`):** These matrices represent the wights of different layers of our model saved as NumPy arrays.\n",
    "\n",
    "- **Biases (`B1`, `B2`, `B3`, `B4`):** These matrices represent the biases of different layers of our model saved as NumPy arrays.\n",
    "\n",
    "- **Weight Gradients (`W1_grad`, `W2_grad`, `W3_grad`, `W4_grad`):** After the backward pass, `W1_grad` holds the gradients of the loss function with respect to `W1`, and similarly for the other weight matrices. All these matrices are saved as NumPy arrays.\n",
    "\n",
    "- **Bias Gradients (`B1_grad`, `B2_grad`, `B3_grad`, `B4_grad`):** Similar to weight gradients, these vectors contain the gradients of the loss with respect to the biases. `B1_grad` is associated with the biases of the first hidden layer, `B2_grad` with the second, and so on. All these vectors are saved as NumPy arrays.\n",
    "\n",
    "**There is no need to change the following cell.**\n"
   ]
  },
  {
   "cell_type": "code",
   "execution_count": 10,
   "metadata": {},
   "outputs": [],
   "source": [
    "parameters = [W1, B1, W2, B2, W3, B3, W4, B4]\n",
    "\n",
    "middle_values = [PreActivation1, Hidden1,\n",
    "                 PreActivation2, Hidden2,\n",
    "                 PreActivation3, Hidden3,\n",
    "                 Logits, Exp4, Sum4, SumInverse4, Probs, \n",
    "                 LogProbs]\n",
    "\n",
    "# Backward pass (autograd)\n",
    "for p in parameters:\n",
    "    p.grad = None\n",
    "    p.retain_grad()\n",
    "for m in middle_values:\n",
    "    m.retain_grad()\n",
    "Loss.backward()\n",
    "\n",
    "Loss = np.array(Loss.detach())\n",
    "\n",
    "LogProbs_grad = np.array(LogProbs.grad)\n",
    "LogProbs = np.array(LogProbs.detach())\n",
    "\n",
    "Probs_grad = np.array(Probs.grad)\n",
    "Probs = np.array(Probs.detach())\n",
    "\n",
    "SumInverse4_grad = np.array(SumInverse4.grad)\n",
    "SumInverse4 = np.array(SumInverse4.detach())\n",
    "\n",
    "Sum4_grad = np.array(Sum4.grad)\n",
    "Sum4 = np.array(Sum4.detach())\n",
    "\n",
    "Exp4_grad = np.array(Exp4.grad)\n",
    "Exp4 = np.array(Exp4.detach())\n",
    "\n",
    "Logits_grad = np.array(Logits.grad)\n",
    "Logits = np.array(Logits.detach())\n",
    "\n",
    "B4_grad = np.array(B4.grad)\n",
    "B4 = np.array(B4.detach())\n",
    "\n",
    "W4_grad = np.array(W4.grad)\n",
    "W4 = np.array(W4.detach())\n",
    "\n",
    "Hidden3_grad = np.array(Hidden3.grad)\n",
    "Hidden3 = np.array(Hidden3.detach())\n",
    "\n",
    "PreActivation3_grad = np.array(PreActivation3.grad)\n",
    "PreActivation3 = np.array(PreActivation3.detach())\n",
    "\n",
    "B3_grad = np.array(B3.grad)\n",
    "B3 = np.array(B3.detach())\n",
    "\n",
    "W3_grad = np.array(W3.grad)\n",
    "W3 = np.array(W3.detach())\n",
    "\n",
    "Hidden2_grad = np.array(Hidden2.grad)\n",
    "Hidden2 = np.array(Hidden2.detach())\n",
    "\n",
    "PreActivation2_grad = np.array(PreActivation2.grad)\n",
    "PreActivation2 = np.array(PreActivation2.detach())\n",
    "\n",
    "B2_grad = np.array(B2.grad)\n",
    "B2 = np.array(B2.detach())\n",
    "\n",
    "W2_grad = np.array(W2.grad)\n",
    "W2 = np.array(W2.detach())\n",
    "\n",
    "Hidden1_grad = np.array(Hidden1.grad)\n",
    "Hidden1 = np.array(Hidden1.detach())\n",
    "\n",
    "PreActivation1_grad = np.array(PreActivation1.grad)\n",
    "PreActivation1 = np.array(PreActivation1.detach())\n",
    "\n",
    "B1_grad = np.array(B1.grad)\n",
    "B1 = np.array(B1.detach())\n",
    "\n",
    "W1_grad = np.array(W1.grad)\n",
    "W1 = np.array(W1.detach())\n",
    "\n",
    "sample_inp = np.array(sample_inp)\n",
    "sample_out = np.array(sample_out)"
   ]
  },
  {
   "cell_type": "markdown",
   "metadata": {},
   "source": [
    "## Manual Gradient Calculation by Chain Rule: (50 Points)\n",
    "\n",
    "The chain rule is a fundamental principle in calculus that facilitates the computation of complex derivatives by breaking them down into simpler parts. In the context of neural networks, the chain rule enables the efficient calculation of gradients of the loss function with respect to any parameter in the network, regardless of its position. This process is crucial for understanding how changes in parameters affect the overall loss, guiding the optimization process towards lower loss values.\n",
    "\n",
    "In the next cells, we will start a hands-on exploration of this concept by manually calculating the gradients for selected parts of our model. This exercise will not only deepen your understanding of backpropagation  but also reinforce the mathematical intuition behind the learning process.\n",
    "\n",
    "We will proceed as follows:\n",
    "\n",
    "1. **Identify Key Operations:** We will start by pinpointing the key operations in our model that contribute to the final prediction. This includes linear transformations, activation functions, and the final loss computation.\n",
    "   \n",
    "2. **Compute Local Gradients:** For each operation, we will compute the local gradient, which represents the rate of change of the operation's output with respect to its input.\n",
    "\n",
    "3. **Apply the Chain Rule:** Using the chain rule, we will then piece together these local gradients to compute the gradient of the loss function with respect to each parameter in our model. This involves multiplying the local gradients along the paths from the output back to each parameter.\n",
    "\n",
    "4. **Verify Your Calculations:** Finally, we will compare our manually computed gradients with those obtained using automatic differentiation (e.g., PyTorch's `autograd`), ensuring the correctness of our computations. For example `dLogProbs` that you manualy calculate should be equal to the `LogProbs_grad` that we calculated before using PyTorch's autograd and we will verify that by `check()` function.\n",
    "\n",
    "\n",
    "**HINT:** As you start doing manual gradient calculation, keep in mind that the gradient of any parameter or intermediate variable should retain the same dimensions as the original array.\n",
    "\n",
    "Additionally, all calculations in this exercise **should be performed using NumPy** and its functions.\n",
    "\n",
    "**Please complete the #TODO parts of the following cells**\n",
    "\n"
   ]
  },
  {
   "cell_type": "code",
   "execution_count": 11,
   "metadata": {},
   "outputs": [],
   "source": [
    "# Function to compare manually computed gradients with PyTorch (autograd) gradients\n",
    "def check(s, manual_grad, autograd_grad):\n",
    "  corrcetness = np.allclose(manual_grad, autograd_grad)\n",
    "  print(f'{s:15s} | Gradient Correctness: {str(corrcetness):5s}')\n",
    "  "
   ]
  },
  {
   "cell_type": "code",
   "execution_count": 12,
   "metadata": {},
   "outputs": [
    {
     "name": "stdout",
     "output_type": "stream",
     "text": [
      "LogProbs        | Gradient Correctness: True \n"
     ]
    }
   ],
   "source": [
    "# Backward pass (manual)\n",
    "# Loss\n",
    "dLogProbs = np.zeros_like(LogProbs)\n",
    "dLogProbs[range(batch_size), sample_out] = -1 / batch_size\n",
    "\n",
    "# Verify the correctness of the gradients that you calculated\n",
    "check('LogProbs', dLogProbs, LogProbs_grad)"
   ]
  },
  {
   "cell_type": "code",
   "execution_count": 13,
   "metadata": {},
   "outputs": [
    {
     "name": "stdout",
     "output_type": "stream",
     "text": [
      "Probs           | Gradient Correctness: True \n",
      "SumInverse4     | Gradient Correctness: True \n",
      "Sum4            | Gradient Correctness: True \n",
      "Exp4            | Gradient Correctness: True \n",
      "Logits          | Gradient Correctness: True \n",
      "B4              | Gradient Correctness: True \n",
      "W4              | Gradient Correctness: True \n",
      "Hidden3         | Gradient Correctness: True \n"
     ]
    }
   ],
   "source": [
    "# Backward pass (manual)\n",
    "# Layer 4\n",
    "\n",
    "dProbs = dLogProbs / Probs\n",
    "dSumInverse4 = np.sum(dProbs * Exp4, axis=1).reshape(-1, 1)\n",
    "dSum4 = -dSumInverse4 / (Sum4 ** 2)\n",
    "dExp4 = SumInverse4*dProbs + dSum4\n",
    "dLogits = dExp4 * Exp4\n",
    "dB4 = np.sum(dLogits, axis=0, keepdims=True)\n",
    "dW4 = Hidden3.T @ dLogits\n",
    "dHidden3 = dLogits @ W4.T\n",
    "\n",
    "# Verify the correctness of the gradients that you calculated\n",
    "check('Probs', dProbs, Probs_grad)\n",
    "check('SumInverse4', dSumInverse4, SumInverse4_grad)\n",
    "check('Sum4', dSum4, Sum4_grad)\n",
    "check('Exp4', dExp4, Exp4_grad)\n",
    "check('Logits', dLogits, Logits_grad)\n",
    "check('B4', dB4, B4_grad)\n",
    "check('W4', dW4, W4_grad)\n",
    "check('Hidden3', dHidden3, Hidden3_grad)"
   ]
  },
  {
   "cell_type": "code",
   "execution_count": 14,
   "metadata": {},
   "outputs": [
    {
     "name": "stdout",
     "output_type": "stream",
     "text": [
      "PreActivation3  | Gradient Correctness: True \n",
      "B3              | Gradient Correctness: True \n",
      "W3              | Gradient Correctness: True \n",
      "Hidden2         | Gradient Correctness: True \n"
     ]
    }
   ],
   "source": [
    "# Backward pass (manual)\n",
    "# Layer 3\n",
    "\n",
    "dPreActivation3 = dHidden3 * (1 - Hidden3**2)\n",
    "dB3 = np.sum(dPreActivation3, axis=0, keepdims=True)\n",
    "dW3 = Hidden2.T @ dPreActivation3\n",
    "dHidden2 = dPreActivation3 @ W3.T\n",
    "\n",
    "\n",
    "# Verify the correctness of the gradients that you calculated\n",
    "check('PreActivation3', dPreActivation3, PreActivation3_grad)\n",
    "check('B3', dB3, B3_grad)\n",
    "check('W3', dW3, W3_grad)\n",
    "check('Hidden2', dHidden2, Hidden2_grad)"
   ]
  },
  {
   "cell_type": "code",
   "execution_count": 15,
   "metadata": {},
   "outputs": [
    {
     "name": "stdout",
     "output_type": "stream",
     "text": [
      "PreActivation2  | Gradient Correctness: True \n",
      "B2              | Gradient Correctness: True \n",
      "W2              | Gradient Correctness: True \n",
      "Hidden1         | Gradient Correctness: True \n"
     ]
    }
   ],
   "source": [
    "# Backward pass (manual)\n",
    "# Layer 2\n",
    "\n",
    "dPreActivation2 = dHidden2 * (PreActivation2 > 0).astype(int)\n",
    "dB2 = np.sum(dPreActivation2, axis=0, keepdims=True)\n",
    "dW2 = Hidden1.T @ dPreActivation2\n",
    "dHidden1 = dPreActivation2 @ W2.T\n",
    "\n",
    "# Verify the correctness of the gradients that you calculated\n",
    "check('PreActivation2', dPreActivation2, PreActivation2_grad)\n",
    "check('B2', dB2, B2_grad)\n",
    "check('W2', dW2, W2_grad)\n",
    "check('Hidden1', dHidden1, Hidden1_grad)"
   ]
  },
  {
   "cell_type": "code",
   "execution_count": 16,
   "metadata": {},
   "outputs": [
    {
     "name": "stdout",
     "output_type": "stream",
     "text": [
      "PreActivation1  | Gradient Correctness: True \n",
      "B1              | Gradient Correctness: True \n",
      "W1              | Gradient Correctness: True \n"
     ]
    }
   ],
   "source": [
    "# Backward pass (manual)\n",
    "# Layer 1\n",
    "\n",
    "dPreActivation1 = dHidden1 * (Hidden1 * (1-Hidden1))\n",
    "dB1 = np.sum(dPreActivation1, axis=0, keepdims=True)\n",
    "dW1 = sample_inp.T @ dPreActivation1\n",
    "\n",
    "# Verify the correctness of the gradients that you calculated\n",
    "check('PreActivation1', dPreActivation1, PreActivation1_grad)\n",
    "check('B1', dB1, B1_grad)\n",
    "check('W1', dW1, W1_grad)"
   ]
  },
  {
   "cell_type": "markdown",
   "metadata": {},
   "source": [
    "## Updating Model Parameters: (5 Points)\n",
    "\n",
    "With the gradients computed during the backpropagation step, the next critical phase in training our neural network involves updating the model's parameters. This step is essential for minimizing the loss function and improving the model's predictions over time.\n",
    "\n",
    "For our model, this translates to the following updates:\n",
    "- For the first layer's weights (`W1`) and biases (`B1`), we subtract the product of the learning rate and their respective gradients (`dW1`, `dB1`).\n",
    "- Similarly, this pattern is repeated for the subsequent layers' weights (`W2`, `W3`, `W4`) and biases (`B2`, `B3`, `B4`), ensuring that each parameter is nudged in the direction that minimizes the loss.\n",
    "\n",
    "**Please complete the #TODO parts of the following cell**"
   ]
  },
  {
   "cell_type": "code",
   "execution_count": 17,
   "metadata": {},
   "outputs": [],
   "source": [
    "learning_rate = 0.01\n",
    "\n",
    "W1 -= learning_rate * dW1\n",
    "B1 -= learning_rate * dB1\n",
    "\n",
    "W2 -= learning_rate * dW2\n",
    "B2 -= learning_rate * dB2\n",
    "\n",
    "W3 -= learning_rate * dW3\n",
    "B3 -= learning_rate * dB3\n",
    "\n",
    "W4 -= learning_rate * dW4\n",
    "B4 -= learning_rate * dB4"
   ]
  },
  {
   "cell_type": "markdown",
   "metadata": {},
   "source": [
    "## Activation Functions Using Numpy Instead of PyTorch: (10 Points)\n",
    "\n",
    "In the next phase of this notebook, we will try to implement a complete multilayer perceptron (MLP) model using only the NumPy library. For this purpose, you should implement the following activation functions using only NumPy functions:\n",
    "\n",
    "- **Sigmoid:**\n",
    "  The Sigmoid function is defined as \\( \\sigma(x) = \\frac{1}{1 + e^{-x}} \\). It maps any input value to a value between 0 and 1.\n",
    "\n",
    "- **ReLU:**\n",
    "  The Rectified Linear Unit (ReLU) function is defined as \\( \\text{ReLU}(x) = \\max(0, x) \\). It introduces non-linearity with less computational complexity and has become one of the most popular activation functions in deep learning.\n",
    "\n",
    "- **Tanh:**\n",
    "  The Hyperbolic Tangent (Tanh) function is defined as \\( \\tanh(x) = \\frac{e^{x} - e^{-x}}{e^{x} + e^{-x}} \\). It maps any input value to a range between -1 and 1.\n",
    "\n",
    "**Please complete the #TODO parts of the following cells**\n"
   ]
  },
  {
   "cell_type": "code",
   "execution_count": 18,
   "metadata": {},
   "outputs": [],
   "source": [
    "# Activation functions\n",
    "def sigmoid(x):\n",
    "    return 1/ (1 + np.exp(-x))\n",
    "def relu(x):\n",
    "    return np.maximum(0, x)\n",
    "def tanh(x):\n",
    "    return np.tanh(x)"
   ]
  },
  {
   "cell_type": "markdown",
   "metadata": {},
   "source": [
    "## Writing the MLP Class: (10 Points)\n",
    "\n",
    "In the next cell, you are tasked with completing the MLP class, which will serve as the foundation for training an MLP model on the MNIST dataset. The class should have the essential components of an MLP, including:\n",
    "\n",
    "- **Initialization of Parameters:** Define the architecture (number of layers, size of each layer) and initialize the weights and biases accordingly. This sets up the structure of your neural network and prepares it for the forward and backward passes. You can use NumPy random functions for this purpose.\n",
    "\n",
    "- **Forward Pass Method:** Implement the forward propagation algorithm to compute the output of the network for a given input. This involves applying a series of linear transformations and non-linear activations to the input data to obtain the final output. You are free to choose the size of the layers and also the activation functions\n",
    "\n",
    "- **Loss Computation:** Calculate the loss to evaluate how well the model is performing. The loss function measures the discrepancy between the predicted outputs and the actual targets, guiding the training process. Use Cross-entropy loss for this example.\n",
    "\n",
    "- **Backward Pass Method:** Compute the gradients of the loss with respect to the parameters **manually**.\n",
    "\n",
    "- **Step Method:**\n",
    "  The step method is responsible for updating the model's parameters (weights and biases) using the gradients computed after the backward pass. Typically, the step method will iterate over all parameters and apply the update:\n",
    "  \\[ \\text{parameter} = \\text{parameter} - (\\text{learning_rate} \\times \\text{gradient}) \\]\n",
    "\n",
    "\n",
    "\n",
    "Feel free to design the architecture of your model, select appropriate hyperparameters, and choose activation functions based on your specific requirements and objectives! This flexibility allows you to tailor the model to optimally address your unique dataset and performance goals.\n",
    "\n",
    "\n",
    "All calculations in this exercise **should be performed using NumPy** and its functions.\n",
    "\n",
    "**Please complete the #TODO parts of the following cell**\n",
    "\n",
    "\n",
    "\n"
   ]
  },
  {
   "cell_type": "code",
   "execution_count": 19,
   "metadata": {},
   "outputs": [],
   "source": [
    "class MLP:\n",
    "    # i implement n_layer mlp and you should give the number of neurons in each layer as an array in n_hids\n",
    "    def __init__(self, n_inp, n_hids, n_out):\n",
    "        self.layer = len(n_hids)\n",
    "        self.W = []\n",
    "        # initialize W's and B's like your code in upper but with numpy\n",
    "        self.W.append(np.random.randn(n_inp, n_hids[0]) * 0.01)\n",
    "        for i in range(self.layer-1):\n",
    "            self.W.append(np.random.randn(n_hids[i], n_hids[i+1]) * 0.01)\n",
    "        self.W.append(np.random.randn(n_hids[self.layer - 1], n_out) * 0.01)\n",
    "\n",
    "        self.B = []\n",
    "        for i in range(self.layer):\n",
    "            self.B.append(np.random.randn(1, n_hids[i]) * 0.01)\n",
    "        self.B.append(np.random.randn(1, n_out) * 0.01)\n",
    "\n",
    "        # initilize this vars as array of None's and fill them in functions and then use in another function\n",
    "        self.dW, self.dB, self.Pre, self.Hidden, self.dPre, self.dHidden = [], [], [], [], [], []\n",
    "        for i in range(self.layer + 1):\n",
    "            self.dW.append(None)\n",
    "            self.dB.append(None)\n",
    "            self.Pre.append(None)\n",
    "            self.Hidden.append(None)\n",
    "            self.dPre.append(None)\n",
    "            self.dHidden.append(None)\n",
    "            \n",
    "    \n",
    "    def forward(self, X):\n",
    "        # we have PreActivation[0] = sample_input @ W[0] + B[0] and sample_input = X\n",
    "        #         PreActivation1   = sample_inp   @ W1 + B1 in your code\n",
    "        self.Pre[0] = X @ self.W[0] + self.B[0]\n",
    "\n",
    "        # we have Hidden[i] = sigmoid(PreActivation[i]) or relu or tanh\n",
    "        # like your code I use sigmoid erlu tanh in the same order and for more layers I use them again \n",
    "        self.Hidden[0] = sigmoid(self.Pre[0])\n",
    "        for i in range(1, self.layer):\n",
    "            # we have PreActivation[i] = Hidden[i-1] @ W[i] + B[i]\n",
    "            self.Pre[i] = self.Hidden[i-1] @ self.W[i] + self.B[i]\n",
    "            \n",
    "            # I use relu, tanh, sigmoid base on the layer number\n",
    "            if i % 3 == 1:\n",
    "                self.Hidden[i] = relu(self.Pre[i])\n",
    "            elif i % 3 == 2:\n",
    "                self.Hidden[i] = tanh(self.Pre[i])\n",
    "            else:\n",
    "                self.Hidden[i] = sigmoid(self.Pre[i])\n",
    "\n",
    "        # self.Pre[self.layer] is equal to logits in your code\n",
    "        self.Pre[self.layer] = self.Hidden[self.layer - 1] @ self.W[self.layer] + self.B[self.layer]\n",
    "        self.Exps = np.exp(self.Pre[self.layer]) # exps is like Exp4 in your code\n",
    "        self.Sums = np.sum(self.Exps, axis=1).reshape(-1, 1) # Sums is like Sum4 in your code\n",
    "        self.SumInverses = 1/self.Sums # SumInverses is like SumInverse4 in your code\n",
    "        self.probs = self.Exps * self.SumInverses # probs is like Probs in your code and return the probability\n",
    "                                                    #of each number in each sample\n",
    "        \n",
    "        return self.probs\n",
    "\n",
    "    def Loss(self, Y):\n",
    "        m = Y.shape[0]\n",
    "        self.log_probs = np.log(self.probs)\n",
    "        loss = -self.log_probs[range(m), Y].mean()\n",
    "        return loss\n",
    "\n",
    "    def backward(self, X, Y):\n",
    "        # it get self.log_probs that is calculated in loss and you should first call loss function then call backward\n",
    "        m = Y.shape[0]\n",
    "        d_LogProbs = np.zeros_like(self.log_probs)\n",
    "        d_LogProbs[range(m), Y]  = -1 / m\n",
    "\n",
    "        # this is like the code upper in backward\n",
    "        d_Probs = d_LogProbs / self.probs\n",
    "        d_SumInverses = np.sum(d_Probs * self.Exps, axis=1).reshape(-1, 1)\n",
    "        d_Sums = -d_SumInverses / (self.Sums ** 2)\n",
    "        d_Exps = self.SumInverses*d_Probs + d_Sums\n",
    "        d_Logits = d_Exps * self.Exps\n",
    "        self.dB[self.layer] = np.sum(d_Logits, axis=0, keepdims=True)\n",
    "        self.dW[self.layer] = self.Hidden[self.layer-1].T @ d_Logits\n",
    "        self.dHidden[self.layer - 1] = d_Logits @ self.W[self.layer].T\n",
    "\n",
    "        # gain parameters in backward \n",
    "        # we sholud pay attention to the layer that we are in, and use activation function inverse\n",
    "        for i in range(1, self.layer):\n",
    "            j = self.layer - i\n",
    "            if j%3 == 0:\n",
    "                self.dPre[j] = self.dHidden[j] * (self.Hidden[j] * (1-self.Hidden[j]))\n",
    "            elif j%3 == 1:\n",
    "                self.dPre[j] = self.dHidden[j] * (self.Pre[j] > 0).astype(int)\n",
    "            else:\n",
    "                self.dPre[j] = self.dHidden[j]*(1-self.Hidden[j]**2)\n",
    "            self.dB[j] = np.sum(self.dPre[j], axis=0, keepdims=True)\n",
    "            self.dW[j] = self.Hidden[j-1].T @ self.dPre[j]\n",
    "            self.dHidden[j-1] = self.dPre[j] @ self.W[j].T\n",
    "        \n",
    "        self.dPre[0] = self.dHidden[0] * (self.Hidden[0] * (1-self.Hidden[0]))\n",
    "        self.dB[0] = np.sum(self.dPre[0], axis=0, keepdims=True)\n",
    "        self.dW[0] = X.T @ self.dPre[0]\n",
    "\n",
    "    def step(self, learning_rate):\n",
    "        # update the W's and B's\n",
    "        for i in range(self.layer + 1):\n",
    "            self.W[i] -= learning_rate * self.dW[i]\n",
    "            self.B[i] -= learning_rate * self.dB[i]\n"
   ]
  },
  {
   "cell_type": "markdown",
   "metadata": {},
   "source": [
    "## Setting the Hyperparameters and Model Configuration:\n",
    "\n",
    "Hyperparameters, such as the learning rate, number of epochs, and batch size, play a crucial role in the training process and significantly influence the model's performance and efficiency. Unlike model parameters that are learned during training, hyperparameters must be predefined and can have a profound impact on the learning dynamics and final outcomes.\n",
    "\n",
    "- **Learning Rate:** Determines the step size at each iteration while moving toward a minimum of the loss function. An appropriately chosen learning rate ensures that the model converges efficiently to a good solution.\n",
    "\n",
    "- **Number of Epochs:** The total number of times the training dataset is passed through the network. Properly setting this value ensures that the model is adequately trained without falling into the pitfalls of underfitting or overfitting.\n",
    "\n",
    "- **Batch Size:** Dictates the number of training examples used in one iteration. It balances the trade-off between the regularization effect and the stability of the gradient, also impacting memory usage and computational speed.\n",
    "\n",
    "- **Model Size and Parameters:** Refers to the architecture of the MLP, including the number of layers and the number of neurons in each layer. The model's size directly affects its capacity to learn, with more parameters allowing for more complex functions to be modeled. However, larger models also require more data to train effectively without overfitting and entail higher computational costs. You could define this part in the previous cell as you wrote tha MLP class as well.\n",
    "\n",
    "In the next cell, you will define these hyperparameters and configure the model's architecture.\n",
    "\n",
    "**Please complete the #TODO parts of the following cell**\n"
   ]
  },
  {
   "cell_type": "code",
   "execution_count": 20,
   "metadata": {},
   "outputs": [],
   "source": [
    "# Setting the hyperparameters\n",
    "n_inp = X_train.shape[1]\n",
    "n_hid1 = 128\n",
    "n_hid2 = 164\n",
    "n_hid3 = 32\n",
    "n_out = 10\n",
    "\n",
    "batch_size = 32\n",
    "learning_rate = 0.1\n",
    "n_epochs = 50"
   ]
  },
  {
   "cell_type": "markdown",
   "metadata": {},
   "source": [
    "## Creating Batches for Different Splits of Data (5 Points)\n",
    "\n",
    "In the next cell, you should focus on batching the different splits of the MNIST dataset: the training, validation, and test sets.\n",
    "\n",
    "Implementing this batching process will prepare your data for the training loop, where each batch will be fed into the model sequentially to perform forward and backward passes and update the model parameters.\n",
    "\n",
    "**Please complete the #TODO parts of the following cell**\n"
   ]
  },
  {
   "cell_type": "code",
   "execution_count": 21,
   "metadata": {},
   "outputs": [],
   "source": [
    "# TODO\n",
    "training_batches = []\n",
    "particle_size1 = X_train.shape[0] // batch_size\n",
    "for i in range(particle_size1):\n",
    "    training_batches.append([X_train[i*batch_size:(i+1)*batch_size], Y_train[i*batch_size:(i+1)*batch_size]])\n",
    "\n",
    "# TODO\n",
    "validation_batches = [[X_val[:batch_size], Y_val[:batch_size]]]\n",
    "particle_size2 = X_val.shape[0] // batch_size\n",
    "for i in range(particle_size2):\n",
    "    validation_batches.append([X_val[i*batch_size:(i+1)*batch_size], Y_val[i*batch_size:(i+1)*batch_size]])\n",
    "\n",
    "# TODO\n",
    "test_batches = []\n",
    "particle_size = X_test.shape[0] // batch_size\n",
    "for i in range(particle_size):\n",
    "    test_batches.append([X_test[i*batch_size:(i+1)*batch_size], Y_test[i*batch_size:(i+1)*batch_size]])"
   ]
  },
  {
   "cell_type": "markdown",
   "metadata": {},
   "source": [
    "## Writing the Training Loop (15 Points)\n",
    "\n",
    "Training a neural network involves iteratively adjusting its parameters to minimize a loss function. This process is encapsulated within a training loop, where the model learns from the training data over multiple epochs. Each epoch represents one complete pass through the entire dataset.\n",
    "\n",
    "In the next cell, you should do the following:\n",
    "\n",
    "1. **Initialize the MLP Model:** Before you can start training, you need to instantiate your MLP class.\n",
    "\n",
    "2. **Implement the Training Loop:** The training loop should include the following key steps for each epoch:\n",
    "   - **Forward Pass:** For each batch of data, compute the model's predictions by passing the data through the model from input to output.\n",
    "   - **Compute Loss:** Evaluate how well the model's predictions match the actual labels by calculating the loss, using a suitable loss function for classification (e.g., cross-entropy loss).\n",
    "   - **Backward Pass:** Compute the gradients of the loss function with respect to the model's parameters.\n",
    "   - **Update Parameters:** Adjust the model's parameters in the opposite direction of the gradients to minimize the loss.\n",
    "   - **Validation:** Periodically, after a set number of epochs, evaluate the model's performance on the validation set to monitor its learning progress and adjust training parameters if necessary.\n",
    "\n",
    "Remember to track the loss during training to monitor the model's performance over time. This information is valuable for debugging and optimizing the training process.\n",
    "\n",
    "**Please complete the #TODO parts of the following cell**\n"
   ]
  },
  {
   "cell_type": "code",
   "execution_count": 22,
   "metadata": {},
   "outputs": [
    {
     "name": "stdout",
     "output_type": "stream",
     "text": [
      "epoch : 0/50    training loss : 2.301847369669729  validation loss : 2.309476240082778\n",
      "epoch : 1/50    training loss : 2.3017988540524925  validation loss : 2.3094220725443857\n",
      "epoch : 2/50    training loss : 2.3015048480731637  validation loss : 2.307733039983289\n",
      "epoch : 3/50    training loss : 1.7423383273844104  validation loss : 1.3024295434170616\n",
      "epoch : 4/50    training loss : 0.8711761029022126  validation loss : 0.5636619715917209\n",
      "epoch : 5/50    training loss : 0.4324118541335492  validation loss : 0.3068097442587806\n",
      "epoch : 6/50    training loss : 0.27515538544118995  validation loss : 0.22236196517190934\n",
      "epoch : 7/50    training loss : 0.20896817371361737  validation loss : 0.18397690701623462\n",
      "epoch : 8/50    training loss : 0.1710974218513895  validation loss : 0.16265220736300728\n",
      "epoch : 9/50    training loss : 0.14556099575434922  validation loss : 0.14687458833933492\n",
      "epoch : 10/50    training loss : 0.12626662479512718  validation loss : 0.13459900927974486\n",
      "epoch : 11/50    training loss : 0.11125007601649611  validation loss : 0.1250306602298021\n",
      "epoch : 12/50    training loss : 0.09893441924988565  validation loss : 0.11811738090473618\n",
      "epoch : 13/50    training loss : 0.08886924264204009  validation loss : 0.11247860004640522\n",
      "epoch : 14/50    training loss : 0.08030211786543817  validation loss : 0.10893905953678505\n",
      "epoch : 15/50    training loss : 0.0724753764912908  validation loss : 0.10711875256072272\n",
      "epoch : 16/50    training loss : 0.06580624524496097  validation loss : 0.10755559027447048\n",
      "epoch : 17/50    training loss : 0.059630576426223034  validation loss : 0.10933474428040817\n",
      "epoch : 18/50    training loss : 0.05427472845331222  validation loss : 0.11007982293720191\n",
      "epoch : 19/50    training loss : 0.04937295097418267  validation loss : 0.11084302627994923\n",
      "epoch : 20/50    training loss : 0.04468186236671647  validation loss : 0.11118563936072619\n",
      "epoch : 21/50    training loss : 0.04061010993235886  validation loss : 0.11258712358700748\n",
      "epoch : 22/50    training loss : 0.03675430004493234  validation loss : 0.11205168248126128\n",
      "epoch : 23/50    training loss : 0.03347412059373519  validation loss : 0.11368204142907667\n",
      "epoch : 24/50    training loss : 0.030089785071452574  validation loss : 0.11660556394959627\n",
      "epoch : 25/50    training loss : 0.027082872676417936  validation loss : 0.12201920641808349\n",
      "epoch : 26/50    training loss : 0.024131676992937605  validation loss : 0.12417790827710257\n",
      "epoch : 27/50    training loss : 0.021518257763519254  validation loss : 0.1293748629527476\n",
      "epoch : 28/50    training loss : 0.0195349414242063  validation loss : 0.13022008723188128\n",
      "epoch : 29/50    training loss : 0.017525912804666345  validation loss : 0.12647730700864035\n",
      "epoch : 30/50    training loss : 0.01597337111363778  validation loss : 0.11304441654725303\n",
      "epoch : 31/50    training loss : 0.013972149516086144  validation loss : 0.12792472955509854\n",
      "epoch : 32/50    training loss : 0.013401633910825075  validation loss : 0.12833861539025337\n",
      "epoch : 33/50    training loss : 0.013050666031201353  validation loss : 0.1133115906504196\n",
      "epoch : 34/50    training loss : 0.01135974182057909  validation loss : 0.1097840895107771\n",
      "epoch : 35/50    training loss : 0.009348810637725023  validation loss : 0.1107303760090576\n",
      "epoch : 36/50    training loss : 0.008118333452053572  validation loss : 0.11114303249653279\n",
      "epoch : 37/50    training loss : 0.007156796590734392  validation loss : 0.1120810287208267\n",
      "epoch : 38/50    training loss : 0.006353442589938805  validation loss : 0.11236987733900615\n",
      "epoch : 39/50    training loss : 0.0059491116431721015  validation loss : 0.111580091384326\n",
      "epoch : 40/50    training loss : 0.005159185642005958  validation loss : 0.11213004561059838\n",
      "epoch : 41/50    training loss : 0.004543826405488967  validation loss : 0.11238044972183339\n",
      "epoch : 42/50    training loss : 0.004139392277216621  validation loss : 0.11264216952903354\n",
      "epoch : 43/50    training loss : 0.0037809517703881602  validation loss : 0.11301989014519431\n",
      "epoch : 44/50    training loss : 0.0034752417765148845  validation loss : 0.11334686215229339\n",
      "epoch : 45/50    training loss : 0.0031977153278677246  validation loss : 0.11381297066119454\n",
      "epoch : 46/50    training loss : 0.0029582285228501805  validation loss : 0.11440739852282927\n",
      "epoch : 47/50    training loss : 0.0027456268629970286  validation loss : 0.1149052021660707\n",
      "epoch : 48/50    training loss : 0.002555330129192645  validation loss : 0.11554397511171885\n",
      "epoch : 49/50    training loss : 0.002385652066989777  validation loss : 0.11626053286434693\n"
     ]
    }
   ],
   "source": [
    "# Initialize the model\n",
    "# TODO\n",
    "mlp = MLP(n_inp, [n_hid1, n_hid2, n_hid3], n_out)\n",
    "\n",
    "# Training loop\n",
    "# TODO\n",
    "epoches = []\n",
    "train_losses = []\n",
    "validation_losses = []\n",
    "n_epochs = 50\n",
    "for epoch in range(n_epochs):\n",
    "    epoches.append(epoch)\n",
    "    loss_train = 0\n",
    "    for X, Y in training_batches:\n",
    "        # Forward pass\n",
    "        mlp.forward(X)\n",
    "        # Calculate the loss\n",
    "        loss_train = loss_train + mlp.Loss(Y)\n",
    "        # Backward pass\n",
    "        mlp.backward(X, Y)\n",
    "        # Update the weights and biases\n",
    "        mlp.step(learning_rate)\n",
    "    train_losses.append(loss_train / particle_size1)\n",
    "\n",
    "    loss_validation = 0\n",
    "    for X, Y in validation_batches:\n",
    "        # Forward pass\n",
    "        mlp.forward(X)\n",
    "        # Calculate the loss\n",
    "        loss_validation = loss_validation + mlp.Loss(Y) \n",
    "    validation_losses.append(loss_validation / particle_size2) \n",
    "\n",
    "    print(\"epoch : \" + str(epoch) + \"/\" + str(n_epochs) + \"    training loss : \" + str(train_losses[epoch]) + \"  validation loss : \" + str(validation_losses[epoch]))\n",
    "    "
   ]
  },
  {
   "cell_type": "markdown",
   "metadata": {},
   "source": [
    "## Plotting the Validation and Training Loss (5 Points)\n",
    "\n",
    "Visualizing the training and validation loss over time is a crucial aspect of the model development process. It provides valuable insights into how well the model is learning, helps identify issues such as overfitting or underfitting, and can guide decisions on model adjustments or hyperparameter tuning.\n",
    "\n",
    "In the next cell, you will create a plot to visualize the training and validation loss over time.\n",
    "\n",
    "**Please complete the #TODO parts of the following cell**"
   ]
  },
  {
   "cell_type": "code",
   "execution_count": 23,
   "metadata": {},
   "outputs": [
    {
     "data": {
      "image/png": "[encoded data removed]",
      "text/plain": [
       "<Figure size 700x500 with 1 Axes>"
      ]
     },
     "metadata": {},
     "output_type": "display_data"
    }
   ],
   "source": [
    "# plot losses\n",
    "# TODO\n",
    "# Create a plot\n",
    "plt.figure(figsize=(7, 5))\n",
    "\n",
    "# Plot training errors\n",
    "plt.plot(epoches, train_losses, label='Training Error')\n",
    "\n",
    "# Plot validation errors\n",
    "plt.plot(epoches, validation_losses, label='Validation Error')\n",
    "\n",
    "# Adding title and labels\n",
    "plt.title('Training and Validation Loss')\n",
    "plt.xlabel('Epochs')\n",
    "plt.ylabel('Error')\n",
    "\n",
    "# Adding legend\n",
    "plt.legend()\n",
    "\n",
    "# Display the plot\n",
    "plt.show()\n"
   ]
  },
  {
   "cell_type": "markdown",
   "metadata": {},
   "source": [
    "## Visualizing Some Examples (5 Points)\n",
    "\n",
    "In the next cell, visualize a subset of the test images along with their true and predicted labels.\n",
    "\n",
    "**Please complete the #TODO parts of the following cell**"
   ]
  },
  {
   "cell_type": "code",
   "execution_count": 25,
   "metadata": {},
   "outputs": [
    {
     "data": {
      "image/png": "[encoded data removed]",
      "text/plain": [
       "<Figure size 1200x1200 with 64 Axes>"
      ]
     },
     "metadata": {},
     "output_type": "display_data"
    }
   ],
   "source": [
    "# Visualize test images\n",
    "# TODO\n",
    "num_samples = 64\n",
    "indices = np.random.choice(len(X_test), num_samples, replace=False)\n",
    "pr = mlp.forward(X_test[indices])\n",
    "y_pred = np.array([np.argmax(pr[i]) for i in range(pr.shape[0])])\n",
    "\n",
    "plt.figure(figsize=(12, 12))\n",
    "\n",
    "for i, idx in enumerate(indices):\n",
    "    plt.subplot(8, 8, i + 1)\n",
    "    plt.imshow(X_test[idx].reshape(-1, 28, 28).squeeze(), cmap='gray')\n",
    "    plt.title(f\"True: {Y_test[idx]} | Pred: {y_pred[i]}\")\n",
    "    plt.axis('off')\n",
    "\n",
    "plt.subplots_adjust(left=0.02, right=0.98, top=0.98, bottom=0.02, wspace=0.2, hspace=0.4)\n",
    "\n",
    "plt.tight_layout()\n",
    "plt.show()"
   ]
  },
  {
   "cell_type": "markdown",
   "metadata": {},
   "source": [
    "## Calculating Model Metrics for Different Splits (15 Points)\n",
    "\n",
    "Evaluating the performance of your MLP model across different data splits (training, validation, and test sets) is critical for understanding its generalization ability and overall effectiveness. This evaluation helps ensure that the model performs well not only on the data it was trained on but also on new, unseen data.\n",
    "\n",
    "In the next cell, you should calculate model metrics(precision, recall, F1, ...) for each split and report them.\n",
    "\n",
    "You can use sklearn library for this part, if you want to.\n",
    "\n",
    "**Please complete the #TODO parts of the following cells**"
   ]
  },
  {
   "cell_type": "code",
   "execution_count": 26,
   "metadata": {},
   "outputs": [
    {
     "name": "stdout",
     "output_type": "stream",
     "text": [
      "Training Data Metrics:\n",
      "              precision    recall  f1-score   support\n",
      "\n",
      "           0       1.00      1.00      1.00      4939\n",
      "           1       1.00      1.00      1.00      5649\n",
      "           2       1.00      1.00      1.00      4964\n",
      "           3       1.00      1.00      1.00      5131\n",
      "           4       1.00      1.00      1.00      4862\n",
      "           5       1.00      1.00      1.00      4502\n",
      "           6       1.00      1.00      1.00      4937\n",
      "           7       1.00      1.00      1.00      5205\n",
      "           8       1.00      1.00      1.00      4872\n",
      "           9       1.00      1.00      1.00      4939\n",
      "\n",
      "    accuracy                           1.00     50000\n",
      "   macro avg       1.00      1.00      1.00     50000\n",
      "weighted avg       1.00      1.00      1.00     50000\n",
      "\n"
     ]
    }
   ],
   "source": [
    "from sklearn.metrics import classification_report\n",
    "\n",
    "# Training data metrics\n",
    "# TODO\n",
    "train_probs = mlp.forward(X_train)\n",
    "train_preds = np.array([np.argmax(train_probs[i]) for i in range(train_probs.shape[0])])\n",
    "train_report = classification_report(Y_train, train_preds)\n",
    "\n",
    "print(\"Training Data Metrics:\")\n",
    "print(train_report)"
   ]
  },
  {
   "cell_type": "code",
   "execution_count": 27,
   "metadata": {},
   "outputs": [
    {
     "name": "stdout",
     "output_type": "stream",
     "text": [
      "\n",
      "Validation Data Metrics:\n",
      "              precision    recall  f1-score   support\n",
      "\n",
      "           0       0.99      0.98      0.99       984\n",
      "           1       0.99      1.00      0.99      1093\n",
      "           2       0.97      0.98      0.98       994\n",
      "           3       0.98      0.97      0.98      1000\n",
      "           4       0.98      0.98      0.98       980\n",
      "           5       0.97      0.96      0.97       919\n",
      "           6       0.99      0.99      0.99       981\n",
      "           7       0.99      0.98      0.98      1060\n",
      "           8       0.97      0.97      0.97       979\n",
      "           9       0.96      0.97      0.97      1010\n",
      "\n",
      "    accuracy                           0.98     10000\n",
      "   macro avg       0.98      0.98      0.98     10000\n",
      "weighted avg       0.98      0.98      0.98     10000\n",
      "\n"
     ]
    }
   ],
   "source": [
    "# Validation data metrics\n",
    "# TODO\n",
    "# Validation data metrics\n",
    "val_probs = mlp.forward(X_val)\n",
    "val_preds = np.array([np.argmax(val_probs[i]) for i in range(val_probs.shape[0])])\n",
    "val_report = classification_report(Y_val, val_preds)\n",
    "\n",
    "print(\"\\nValidation Data Metrics:\")\n",
    "print(val_report)"
   ]
  },
  {
   "cell_type": "code",
   "execution_count": 28,
   "metadata": {},
   "outputs": [
    {
     "name": "stdout",
     "output_type": "stream",
     "text": [
      "\n",
      "Test Data Metrics:\n",
      "              precision    recall  f1-score   support\n",
      "\n",
      "           0       0.98      0.99      0.98       980\n",
      "           1       0.99      0.99      0.99      1135\n",
      "           2       0.98      0.97      0.97      1032\n",
      "           3       0.96      0.98      0.97      1010\n",
      "           4       0.97      0.97      0.97       982\n",
      "           5       0.97      0.97      0.97       892\n",
      "           6       0.97      0.97      0.97       958\n",
      "           7       0.99      0.97      0.98      1028\n",
      "           8       0.97      0.98      0.97       974\n",
      "           9       0.97      0.96      0.97      1009\n",
      "\n",
      "    accuracy                           0.98     10000\n",
      "   macro avg       0.98      0.98      0.98     10000\n",
      "weighted avg       0.98      0.98      0.98     10000\n",
      "\n"
     ]
    }
   ],
   "source": [
    "# Test data metrics\n",
    "# TODO\n",
    "# Test data metrics\n",
    "test_probs = mlp.forward(X_test)\n",
    "test_pred = np.array([np.argmax(test_probs[i]) for i in range(test_probs.shape[0])])\n",
    "test_report = classification_report(Y_test, test_pred)\n",
    "\n",
    "print(\"\\nTest Data Metrics:\")\n",
    "print(test_report)"
   ]
  },
  {
   "cell_type": "markdown",
   "metadata": {},
   "source": [
    "## Reporting the Findings (5 Points)\n",
    "\n",
    "In the next cell you should do the following:\n",
    "\n",
    "1. **Analyze Results:** Compare the metrics across the different splits. A model that performs exceptionally well on the training set but poorly on the validation/test sets may be overfitting. Conversely, underfitting may be indicated by poor performance across all sets.\n",
    "\n",
    "2. **Report Findings:** Summarize the results in a clear and concise manner."
   ]
  },
  {
   "cell_type": "markdown",
   "metadata": {},
   "source": [
    "### Your Explanation:"
   ]
  },
  {
   "cell_type": "markdown",
   "metadata": {},
   "source": [
    "<p dir=\"rtl\" style=\"margin:30pt\">\n",
    "با توجه به ماتریس ها برای \n",
    "train, validation, test\n",
    "مشاهده می شود که در دیتا \n",
    "train\n",
    "صد در صد دیتا ها را درست تشخیص داده است و در دیتا\n",
    "validation\n",
    "نیز با دقت حدود 97 درصد درست تشخیص داده است و همچنین در دیتا\n",
    "test\n",
    "هم به طور میانگین 97 درصد درست تشخیص داده است \n",
    "بدین ترتیب مغلوم می شود که مدل ما \n",
    "overfit\n",
    "نشده است و دیتا های \n",
    "validation\n",
    "و \n",
    "test\n",
    "را نیز خوب جواب می دهد.\n",
    "<br>\n",
    "نتیجه این است که مدل خوبی را پیاده کرده ایم.\n",
    "</p>"
   ]
  }
 ],
 "metadata": {
  "kernelspec": {
   "display_name": "ai",
   "language": "python",
   "name": "python3"
  },
  "language_info": {
   "codemirror_mode": {
    "name": "ipython",
    "version": 3
   },
   "file_extension": ".py",
   "mimetype": "text/x-python",
   "name": "python",
   "nbconvert_exporter": "python",
   "pygments_lexer": "ipython3",
   "version": "3.11.5"
  }
 },
 "nbformat": 4,
 "nbformat_minor": 2
}
